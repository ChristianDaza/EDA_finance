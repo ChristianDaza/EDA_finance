{
 "cells": [
  {
   "cell_type": "markdown",
   "metadata": {},
   "source": [
    "# Imports "
   ]
  },
  {
   "cell_type": "code",
   "execution_count": 304,
   "metadata": {},
   "outputs": [],
   "source": [
    "import pandas as pd\n",
    "import numpy as np\n",
    "import seaborn as sns\n",
    "import matplotlib.pyplot as plt\n",
    "import matplotlib.patches as mpatches\n",
    "# Change datatype of columns to the appripriate ones\n",
    "import pre_processing as prep\n",
    "import time\n",
    "import datetime\n",
    "\n"
   ]
  },
  {
   "cell_type": "markdown",
   "metadata": {},
   "source": [
    "Upload the data into the notebook"
   ]
  },
  {
   "cell_type": "code",
   "execution_count": 43,
   "metadata": {},
   "outputs": [],
   "source": [
    "df = pd.read_csv(\"./impute_loan_payments\")"
   ]
  },
  {
   "cell_type": "code",
   "execution_count": 44,
   "metadata": {},
   "outputs": [],
   "source": [
    "df_p = prep.DataTransform(df)"
   ]
  },
  {
   "cell_type": "markdown",
   "metadata": {},
   "source": [
    "Convert the columns to their correct data type"
   ]
  },
  {
   "cell_type": "code",
   "execution_count": 46,
   "metadata": {},
   "outputs": [
    {
     "data": {
      "text/html": [
       "<div>\n",
       "<style scoped>\n",
       "    .dataframe tbody tr th:only-of-type {\n",
       "        vertical-align: middle;\n",
       "    }\n",
       "\n",
       "    .dataframe tbody tr th {\n",
       "        vertical-align: top;\n",
       "    }\n",
       "\n",
       "    .dataframe thead th {\n",
       "        text-align: right;\n",
       "    }\n",
       "</style>\n",
       "<table border=\"1\" class=\"dataframe\">\n",
       "  <thead>\n",
       "    <tr style=\"text-align: right;\">\n",
       "      <th></th>\n",
       "      <th>id</th>\n",
       "      <th>member_id</th>\n",
       "      <th>loan_amount</th>\n",
       "      <th>funded_amount</th>\n",
       "      <th>funded_amount_inv</th>\n",
       "      <th>term_in_months</th>\n",
       "      <th>int_rate</th>\n",
       "      <th>instalment</th>\n",
       "      <th>grade</th>\n",
       "      <th>sub_grade</th>\n",
       "      <th>...</th>\n",
       "      <th>total_rec_late_fee</th>\n",
       "      <th>recoveries</th>\n",
       "      <th>collection_recovery_fee</th>\n",
       "      <th>last_payment_date</th>\n",
       "      <th>last_payment_amount</th>\n",
       "      <th>next_payment_date</th>\n",
       "      <th>last_credit_pull_date</th>\n",
       "      <th>collections_12_mths_ex_med</th>\n",
       "      <th>policy_code</th>\n",
       "      <th>application_type</th>\n",
       "    </tr>\n",
       "  </thead>\n",
       "  <tbody>\n",
       "    <tr>\n",
       "      <th>0</th>\n",
       "      <td>38676116</td>\n",
       "      <td>41461848</td>\n",
       "      <td>8000</td>\n",
       "      <td>8000.0</td>\n",
       "      <td>8000.0</td>\n",
       "      <td>36.0</td>\n",
       "      <td>7.49</td>\n",
       "      <td>248.82</td>\n",
       "      <td>A</td>\n",
       "      <td>A4</td>\n",
       "      <td>...</td>\n",
       "      <td>0.000000</td>\n",
       "      <td>0.00</td>\n",
       "      <td>0.00</td>\n",
       "      <td>2022-01-01</td>\n",
       "      <td>248.82</td>\n",
       "      <td>2022-02-01</td>\n",
       "      <td>2022-01-01</td>\n",
       "      <td>0.0</td>\n",
       "      <td>1</td>\n",
       "      <td>INDIVIDUAL</td>\n",
       "    </tr>\n",
       "    <tr>\n",
       "      <th>1</th>\n",
       "      <td>38656203</td>\n",
       "      <td>41440010</td>\n",
       "      <td>13200</td>\n",
       "      <td>13200.0</td>\n",
       "      <td>13200.0</td>\n",
       "      <td>36.0</td>\n",
       "      <td>6.99</td>\n",
       "      <td>407.52</td>\n",
       "      <td>A</td>\n",
       "      <td>A3</td>\n",
       "      <td>...</td>\n",
       "      <td>0.000000</td>\n",
       "      <td>0.00</td>\n",
       "      <td>0.00</td>\n",
       "      <td>2022-01-01</td>\n",
       "      <td>407.52</td>\n",
       "      <td>2022-02-01</td>\n",
       "      <td>2022-01-01</td>\n",
       "      <td>0.0</td>\n",
       "      <td>1</td>\n",
       "      <td>INDIVIDUAL</td>\n",
       "    </tr>\n",
       "    <tr>\n",
       "      <th>2</th>\n",
       "      <td>38656154</td>\n",
       "      <td>41439961</td>\n",
       "      <td>16000</td>\n",
       "      <td>16000.0</td>\n",
       "      <td>16000.0</td>\n",
       "      <td>36.0</td>\n",
       "      <td>7.49</td>\n",
       "      <td>497.63</td>\n",
       "      <td>A</td>\n",
       "      <td>A4</td>\n",
       "      <td>...</td>\n",
       "      <td>0.000000</td>\n",
       "      <td>0.00</td>\n",
       "      <td>0.00</td>\n",
       "      <td>2021-10-01</td>\n",
       "      <td>12850.16</td>\n",
       "      <td>NaN</td>\n",
       "      <td>2021-10-01</td>\n",
       "      <td>0.0</td>\n",
       "      <td>1</td>\n",
       "      <td>INDIVIDUAL</td>\n",
       "    </tr>\n",
       "    <tr>\n",
       "      <th>3</th>\n",
       "      <td>38656128</td>\n",
       "      <td>41439934</td>\n",
       "      <td>15000</td>\n",
       "      <td>15000.0</td>\n",
       "      <td>15000.0</td>\n",
       "      <td>36.0</td>\n",
       "      <td>14.31</td>\n",
       "      <td>514.93</td>\n",
       "      <td>C</td>\n",
       "      <td>C4</td>\n",
       "      <td>...</td>\n",
       "      <td>0.000000</td>\n",
       "      <td>0.00</td>\n",
       "      <td>0.00</td>\n",
       "      <td>2021-06-01</td>\n",
       "      <td>13899.67</td>\n",
       "      <td>NaN</td>\n",
       "      <td>2021-06-01</td>\n",
       "      <td>0.0</td>\n",
       "      <td>1</td>\n",
       "      <td>INDIVIDUAL</td>\n",
       "    </tr>\n",
       "    <tr>\n",
       "      <th>4</th>\n",
       "      <td>38656121</td>\n",
       "      <td>41439927</td>\n",
       "      <td>15000</td>\n",
       "      <td>15000.0</td>\n",
       "      <td>15000.0</td>\n",
       "      <td>36.0</td>\n",
       "      <td>6.03</td>\n",
       "      <td>456.54</td>\n",
       "      <td>A</td>\n",
       "      <td>A1</td>\n",
       "      <td>...</td>\n",
       "      <td>0.000000</td>\n",
       "      <td>0.00</td>\n",
       "      <td>0.00</td>\n",
       "      <td>2022-01-01</td>\n",
       "      <td>456.54</td>\n",
       "      <td>2022-02-01</td>\n",
       "      <td>2022-01-01</td>\n",
       "      <td>0.0</td>\n",
       "      <td>1</td>\n",
       "      <td>INDIVIDUAL</td>\n",
       "    </tr>\n",
       "    <tr>\n",
       "      <th>...</th>\n",
       "      <td>...</td>\n",
       "      <td>...</td>\n",
       "      <td>...</td>\n",
       "      <td>...</td>\n",
       "      <td>...</td>\n",
       "      <td>...</td>\n",
       "      <td>...</td>\n",
       "      <td>...</td>\n",
       "      <td>...</td>\n",
       "      <td>...</td>\n",
       "      <td>...</td>\n",
       "      <td>...</td>\n",
       "      <td>...</td>\n",
       "      <td>...</td>\n",
       "      <td>...</td>\n",
       "      <td>...</td>\n",
       "      <td>...</td>\n",
       "      <td>...</td>\n",
       "      <td>...</td>\n",
       "      <td>...</td>\n",
       "      <td>...</td>\n",
       "    </tr>\n",
       "    <tr>\n",
       "      <th>54226</th>\n",
       "      <td>76597</td>\n",
       "      <td>76583</td>\n",
       "      <td>5000</td>\n",
       "      <td>5000.0</td>\n",
       "      <td>1775.0</td>\n",
       "      <td>36.0</td>\n",
       "      <td>9.01</td>\n",
       "      <td>159.03</td>\n",
       "      <td>B</td>\n",
       "      <td>B2</td>\n",
       "      <td>...</td>\n",
       "      <td>0.000000</td>\n",
       "      <td>0.00</td>\n",
       "      <td>0.00</td>\n",
       "      <td>2016-07-01</td>\n",
       "      <td>160.61</td>\n",
       "      <td>NaN</td>\n",
       "      <td>2016-07-01</td>\n",
       "      <td>0.0</td>\n",
       "      <td>1</td>\n",
       "      <td>INDIVIDUAL</td>\n",
       "    </tr>\n",
       "    <tr>\n",
       "      <th>54227</th>\n",
       "      <td>142608</td>\n",
       "      <td>74724</td>\n",
       "      <td>5000</td>\n",
       "      <td>5000.0</td>\n",
       "      <td>2350.0</td>\n",
       "      <td>36.0</td>\n",
       "      <td>10.59</td>\n",
       "      <td>162.73</td>\n",
       "      <td>C</td>\n",
       "      <td>C2</td>\n",
       "      <td>...</td>\n",
       "      <td>104.942381</td>\n",
       "      <td>0.00</td>\n",
       "      <td>0.00</td>\n",
       "      <td>2016-10-01</td>\n",
       "      <td>490.01</td>\n",
       "      <td>NaN</td>\n",
       "      <td>2016-09-01</td>\n",
       "      <td>0.0</td>\n",
       "      <td>1</td>\n",
       "      <td>INDIVIDUAL</td>\n",
       "    </tr>\n",
       "    <tr>\n",
       "      <th>54228</th>\n",
       "      <td>117045</td>\n",
       "      <td>70978</td>\n",
       "      <td>3500</td>\n",
       "      <td>3500.0</td>\n",
       "      <td>2225.0</td>\n",
       "      <td>36.0</td>\n",
       "      <td>7.43</td>\n",
       "      <td>108.77</td>\n",
       "      <td>A</td>\n",
       "      <td>A2</td>\n",
       "      <td>...</td>\n",
       "      <td>0.000000</td>\n",
       "      <td>0.00</td>\n",
       "      <td>0.00</td>\n",
       "      <td>2016-09-01</td>\n",
       "      <td>110.58</td>\n",
       "      <td>2016-09-01</td>\n",
       "      <td>2013-05-01</td>\n",
       "      <td>0.0</td>\n",
       "      <td>1</td>\n",
       "      <td>INDIVIDUAL</td>\n",
       "    </tr>\n",
       "    <tr>\n",
       "      <th>54229</th>\n",
       "      <td>88854</td>\n",
       "      <td>70699</td>\n",
       "      <td>5000</td>\n",
       "      <td>5000.0</td>\n",
       "      <td>225.0</td>\n",
       "      <td>36.0</td>\n",
       "      <td>7.43</td>\n",
       "      <td>155.38</td>\n",
       "      <td>A</td>\n",
       "      <td>A2</td>\n",
       "      <td>...</td>\n",
       "      <td>0.000000</td>\n",
       "      <td>0.00</td>\n",
       "      <td>0.00</td>\n",
       "      <td>2014-03-01</td>\n",
       "      <td>0.00</td>\n",
       "      <td>NaN</td>\n",
       "      <td>2013-05-01</td>\n",
       "      <td>0.0</td>\n",
       "      <td>1</td>\n",
       "      <td>INDIVIDUAL</td>\n",
       "    </tr>\n",
       "    <tr>\n",
       "      <th>54230</th>\n",
       "      <td>72323</td>\n",
       "      <td>70694</td>\n",
       "      <td>5000</td>\n",
       "      <td>5000.0</td>\n",
       "      <td>350.0</td>\n",
       "      <td>36.0</td>\n",
       "      <td>11.54</td>\n",
       "      <td>164.98</td>\n",
       "      <td>C</td>\n",
       "      <td>C5</td>\n",
       "      <td>...</td>\n",
       "      <td>0.000000</td>\n",
       "      <td>182.27</td>\n",
       "      <td>1.84</td>\n",
       "      <td>2014-03-01</td>\n",
       "      <td>164.97</td>\n",
       "      <td>2014-12-01</td>\n",
       "      <td>2015-01-01</td>\n",
       "      <td>0.0</td>\n",
       "      <td>1</td>\n",
       "      <td>INDIVIDUAL</td>\n",
       "    </tr>\n",
       "  </tbody>\n",
       "</table>\n",
       "<p>54231 rows × 40 columns</p>\n",
       "</div>"
      ],
      "text/plain": [
       "             id  member_id  loan_amount  funded_amount  funded_amount_inv  \\\n",
       "0      38676116   41461848         8000         8000.0             8000.0   \n",
       "1      38656203   41440010        13200        13200.0            13200.0   \n",
       "2      38656154   41439961        16000        16000.0            16000.0   \n",
       "3      38656128   41439934        15000        15000.0            15000.0   \n",
       "4      38656121   41439927        15000        15000.0            15000.0   \n",
       "...         ...        ...          ...            ...                ...   \n",
       "54226     76597      76583         5000         5000.0             1775.0   \n",
       "54227    142608      74724         5000         5000.0             2350.0   \n",
       "54228    117045      70978         3500         3500.0             2225.0   \n",
       "54229     88854      70699         5000         5000.0              225.0   \n",
       "54230     72323      70694         5000         5000.0              350.0   \n",
       "\n",
       "       term_in_months  int_rate  instalment grade sub_grade  ...  \\\n",
       "0                36.0      7.49      248.82     A        A4  ...   \n",
       "1                36.0      6.99      407.52     A        A3  ...   \n",
       "2                36.0      7.49      497.63     A        A4  ...   \n",
       "3                36.0     14.31      514.93     C        C4  ...   \n",
       "4                36.0      6.03      456.54     A        A1  ...   \n",
       "...               ...       ...         ...   ...       ...  ...   \n",
       "54226            36.0      9.01      159.03     B        B2  ...   \n",
       "54227            36.0     10.59      162.73     C        C2  ...   \n",
       "54228            36.0      7.43      108.77     A        A2  ...   \n",
       "54229            36.0      7.43      155.38     A        A2  ...   \n",
       "54230            36.0     11.54      164.98     C        C5  ...   \n",
       "\n",
       "      total_rec_late_fee recoveries  collection_recovery_fee  \\\n",
       "0               0.000000       0.00                     0.00   \n",
       "1               0.000000       0.00                     0.00   \n",
       "2               0.000000       0.00                     0.00   \n",
       "3               0.000000       0.00                     0.00   \n",
       "4               0.000000       0.00                     0.00   \n",
       "...                  ...        ...                      ...   \n",
       "54226           0.000000       0.00                     0.00   \n",
       "54227         104.942381       0.00                     0.00   \n",
       "54228           0.000000       0.00                     0.00   \n",
       "54229           0.000000       0.00                     0.00   \n",
       "54230           0.000000     182.27                     1.84   \n",
       "\n",
       "      last_payment_date last_payment_amount next_payment_date  \\\n",
       "0            2022-01-01              248.82        2022-02-01   \n",
       "1            2022-01-01              407.52        2022-02-01   \n",
       "2            2021-10-01            12850.16               NaN   \n",
       "3            2021-06-01            13899.67               NaN   \n",
       "4            2022-01-01              456.54        2022-02-01   \n",
       "...                 ...                 ...               ...   \n",
       "54226        2016-07-01              160.61               NaN   \n",
       "54227        2016-10-01              490.01               NaN   \n",
       "54228        2016-09-01              110.58        2016-09-01   \n",
       "54229        2014-03-01                0.00               NaN   \n",
       "54230        2014-03-01              164.97        2014-12-01   \n",
       "\n",
       "      last_credit_pull_date collections_12_mths_ex_med  policy_code  \\\n",
       "0                2022-01-01                        0.0            1   \n",
       "1                2022-01-01                        0.0            1   \n",
       "2                2021-10-01                        0.0            1   \n",
       "3                2021-06-01                        0.0            1   \n",
       "4                2022-01-01                        0.0            1   \n",
       "...                     ...                        ...          ...   \n",
       "54226            2016-07-01                        0.0            1   \n",
       "54227            2016-09-01                        0.0            1   \n",
       "54228            2013-05-01                        0.0            1   \n",
       "54229            2013-05-01                        0.0            1   \n",
       "54230            2015-01-01                        0.0            1   \n",
       "\n",
       "       application_type  \n",
       "0            INDIVIDUAL  \n",
       "1            INDIVIDUAL  \n",
       "2            INDIVIDUAL  \n",
       "3            INDIVIDUAL  \n",
       "4            INDIVIDUAL  \n",
       "...                 ...  \n",
       "54226        INDIVIDUAL  \n",
       "54227        INDIVIDUAL  \n",
       "54228        INDIVIDUAL  \n",
       "54229        INDIVIDUAL  \n",
       "54230        INDIVIDUAL  \n",
       "\n",
       "[54231 rows x 40 columns]"
      ]
     },
     "execution_count": 46,
     "metadata": {},
     "output_type": "execute_result"
    }
   ],
   "source": [
    "# Transform columns into the categorical data type\n",
    "df_p.category_transform([\"grade\", \"sub_grade\", \"home_ownership\", \"verification_status\", \"loan_status\", \"payment_plan\", \"purpose\", \"application_type\", \"employment_length\", \"policy_code\"])"
   ]
  },
  {
   "cell_type": "code",
   "execution_count": 47,
   "metadata": {},
   "outputs": [
    {
     "data": {
      "text/html": [
       "<div>\n",
       "<style scoped>\n",
       "    .dataframe tbody tr th:only-of-type {\n",
       "        vertical-align: middle;\n",
       "    }\n",
       "\n",
       "    .dataframe tbody tr th {\n",
       "        vertical-align: top;\n",
       "    }\n",
       "\n",
       "    .dataframe thead th {\n",
       "        text-align: right;\n",
       "    }\n",
       "</style>\n",
       "<table border=\"1\" class=\"dataframe\">\n",
       "  <thead>\n",
       "    <tr style=\"text-align: right;\">\n",
       "      <th></th>\n",
       "      <th>id</th>\n",
       "      <th>member_id</th>\n",
       "      <th>loan_amount</th>\n",
       "      <th>funded_amount</th>\n",
       "      <th>funded_amount_inv</th>\n",
       "      <th>term_in_months</th>\n",
       "      <th>int_rate</th>\n",
       "      <th>instalment</th>\n",
       "      <th>grade</th>\n",
       "      <th>sub_grade</th>\n",
       "      <th>...</th>\n",
       "      <th>total_rec_late_fee</th>\n",
       "      <th>recoveries</th>\n",
       "      <th>collection_recovery_fee</th>\n",
       "      <th>last_payment_date</th>\n",
       "      <th>last_payment_amount</th>\n",
       "      <th>next_payment_date</th>\n",
       "      <th>last_credit_pull_date</th>\n",
       "      <th>collections_12_mths_ex_med</th>\n",
       "      <th>policy_code</th>\n",
       "      <th>application_type</th>\n",
       "    </tr>\n",
       "  </thead>\n",
       "  <tbody>\n",
       "    <tr>\n",
       "      <th>0</th>\n",
       "      <td>38676116</td>\n",
       "      <td>41461848</td>\n",
       "      <td>8000</td>\n",
       "      <td>8000.0</td>\n",
       "      <td>8000.0</td>\n",
       "      <td>36.0</td>\n",
       "      <td>7.49</td>\n",
       "      <td>248.82</td>\n",
       "      <td>A</td>\n",
       "      <td>A4</td>\n",
       "      <td>...</td>\n",
       "      <td>0.000000</td>\n",
       "      <td>0.00</td>\n",
       "      <td>0.00</td>\n",
       "      <td>2022-01-01</td>\n",
       "      <td>248.82</td>\n",
       "      <td>2022-02-01</td>\n",
       "      <td>2022-01-01</td>\n",
       "      <td>0.0</td>\n",
       "      <td>1</td>\n",
       "      <td>INDIVIDUAL</td>\n",
       "    </tr>\n",
       "    <tr>\n",
       "      <th>1</th>\n",
       "      <td>38656203</td>\n",
       "      <td>41440010</td>\n",
       "      <td>13200</td>\n",
       "      <td>13200.0</td>\n",
       "      <td>13200.0</td>\n",
       "      <td>36.0</td>\n",
       "      <td>6.99</td>\n",
       "      <td>407.52</td>\n",
       "      <td>A</td>\n",
       "      <td>A3</td>\n",
       "      <td>...</td>\n",
       "      <td>0.000000</td>\n",
       "      <td>0.00</td>\n",
       "      <td>0.00</td>\n",
       "      <td>2022-01-01</td>\n",
       "      <td>407.52</td>\n",
       "      <td>2022-02-01</td>\n",
       "      <td>2022-01-01</td>\n",
       "      <td>0.0</td>\n",
       "      <td>1</td>\n",
       "      <td>INDIVIDUAL</td>\n",
       "    </tr>\n",
       "    <tr>\n",
       "      <th>2</th>\n",
       "      <td>38656154</td>\n",
       "      <td>41439961</td>\n",
       "      <td>16000</td>\n",
       "      <td>16000.0</td>\n",
       "      <td>16000.0</td>\n",
       "      <td>36.0</td>\n",
       "      <td>7.49</td>\n",
       "      <td>497.63</td>\n",
       "      <td>A</td>\n",
       "      <td>A4</td>\n",
       "      <td>...</td>\n",
       "      <td>0.000000</td>\n",
       "      <td>0.00</td>\n",
       "      <td>0.00</td>\n",
       "      <td>2021-10-01</td>\n",
       "      <td>12850.16</td>\n",
       "      <td>NaT</td>\n",
       "      <td>2021-10-01</td>\n",
       "      <td>0.0</td>\n",
       "      <td>1</td>\n",
       "      <td>INDIVIDUAL</td>\n",
       "    </tr>\n",
       "    <tr>\n",
       "      <th>3</th>\n",
       "      <td>38656128</td>\n",
       "      <td>41439934</td>\n",
       "      <td>15000</td>\n",
       "      <td>15000.0</td>\n",
       "      <td>15000.0</td>\n",
       "      <td>36.0</td>\n",
       "      <td>14.31</td>\n",
       "      <td>514.93</td>\n",
       "      <td>C</td>\n",
       "      <td>C4</td>\n",
       "      <td>...</td>\n",
       "      <td>0.000000</td>\n",
       "      <td>0.00</td>\n",
       "      <td>0.00</td>\n",
       "      <td>2021-06-01</td>\n",
       "      <td>13899.67</td>\n",
       "      <td>NaT</td>\n",
       "      <td>2021-06-01</td>\n",
       "      <td>0.0</td>\n",
       "      <td>1</td>\n",
       "      <td>INDIVIDUAL</td>\n",
       "    </tr>\n",
       "    <tr>\n",
       "      <th>4</th>\n",
       "      <td>38656121</td>\n",
       "      <td>41439927</td>\n",
       "      <td>15000</td>\n",
       "      <td>15000.0</td>\n",
       "      <td>15000.0</td>\n",
       "      <td>36.0</td>\n",
       "      <td>6.03</td>\n",
       "      <td>456.54</td>\n",
       "      <td>A</td>\n",
       "      <td>A1</td>\n",
       "      <td>...</td>\n",
       "      <td>0.000000</td>\n",
       "      <td>0.00</td>\n",
       "      <td>0.00</td>\n",
       "      <td>2022-01-01</td>\n",
       "      <td>456.54</td>\n",
       "      <td>2022-02-01</td>\n",
       "      <td>2022-01-01</td>\n",
       "      <td>0.0</td>\n",
       "      <td>1</td>\n",
       "      <td>INDIVIDUAL</td>\n",
       "    </tr>\n",
       "    <tr>\n",
       "      <th>...</th>\n",
       "      <td>...</td>\n",
       "      <td>...</td>\n",
       "      <td>...</td>\n",
       "      <td>...</td>\n",
       "      <td>...</td>\n",
       "      <td>...</td>\n",
       "      <td>...</td>\n",
       "      <td>...</td>\n",
       "      <td>...</td>\n",
       "      <td>...</td>\n",
       "      <td>...</td>\n",
       "      <td>...</td>\n",
       "      <td>...</td>\n",
       "      <td>...</td>\n",
       "      <td>...</td>\n",
       "      <td>...</td>\n",
       "      <td>...</td>\n",
       "      <td>...</td>\n",
       "      <td>...</td>\n",
       "      <td>...</td>\n",
       "      <td>...</td>\n",
       "    </tr>\n",
       "    <tr>\n",
       "      <th>54226</th>\n",
       "      <td>76597</td>\n",
       "      <td>76583</td>\n",
       "      <td>5000</td>\n",
       "      <td>5000.0</td>\n",
       "      <td>1775.0</td>\n",
       "      <td>36.0</td>\n",
       "      <td>9.01</td>\n",
       "      <td>159.03</td>\n",
       "      <td>B</td>\n",
       "      <td>B2</td>\n",
       "      <td>...</td>\n",
       "      <td>0.000000</td>\n",
       "      <td>0.00</td>\n",
       "      <td>0.00</td>\n",
       "      <td>2016-07-01</td>\n",
       "      <td>160.61</td>\n",
       "      <td>NaT</td>\n",
       "      <td>2016-07-01</td>\n",
       "      <td>0.0</td>\n",
       "      <td>1</td>\n",
       "      <td>INDIVIDUAL</td>\n",
       "    </tr>\n",
       "    <tr>\n",
       "      <th>54227</th>\n",
       "      <td>142608</td>\n",
       "      <td>74724</td>\n",
       "      <td>5000</td>\n",
       "      <td>5000.0</td>\n",
       "      <td>2350.0</td>\n",
       "      <td>36.0</td>\n",
       "      <td>10.59</td>\n",
       "      <td>162.73</td>\n",
       "      <td>C</td>\n",
       "      <td>C2</td>\n",
       "      <td>...</td>\n",
       "      <td>104.942381</td>\n",
       "      <td>0.00</td>\n",
       "      <td>0.00</td>\n",
       "      <td>2016-10-01</td>\n",
       "      <td>490.01</td>\n",
       "      <td>NaT</td>\n",
       "      <td>2016-09-01</td>\n",
       "      <td>0.0</td>\n",
       "      <td>1</td>\n",
       "      <td>INDIVIDUAL</td>\n",
       "    </tr>\n",
       "    <tr>\n",
       "      <th>54228</th>\n",
       "      <td>117045</td>\n",
       "      <td>70978</td>\n",
       "      <td>3500</td>\n",
       "      <td>3500.0</td>\n",
       "      <td>2225.0</td>\n",
       "      <td>36.0</td>\n",
       "      <td>7.43</td>\n",
       "      <td>108.77</td>\n",
       "      <td>A</td>\n",
       "      <td>A2</td>\n",
       "      <td>...</td>\n",
       "      <td>0.000000</td>\n",
       "      <td>0.00</td>\n",
       "      <td>0.00</td>\n",
       "      <td>2016-09-01</td>\n",
       "      <td>110.58</td>\n",
       "      <td>2016-09-01</td>\n",
       "      <td>2013-05-01</td>\n",
       "      <td>0.0</td>\n",
       "      <td>1</td>\n",
       "      <td>INDIVIDUAL</td>\n",
       "    </tr>\n",
       "    <tr>\n",
       "      <th>54229</th>\n",
       "      <td>88854</td>\n",
       "      <td>70699</td>\n",
       "      <td>5000</td>\n",
       "      <td>5000.0</td>\n",
       "      <td>225.0</td>\n",
       "      <td>36.0</td>\n",
       "      <td>7.43</td>\n",
       "      <td>155.38</td>\n",
       "      <td>A</td>\n",
       "      <td>A2</td>\n",
       "      <td>...</td>\n",
       "      <td>0.000000</td>\n",
       "      <td>0.00</td>\n",
       "      <td>0.00</td>\n",
       "      <td>2014-03-01</td>\n",
       "      <td>0.00</td>\n",
       "      <td>NaT</td>\n",
       "      <td>2013-05-01</td>\n",
       "      <td>0.0</td>\n",
       "      <td>1</td>\n",
       "      <td>INDIVIDUAL</td>\n",
       "    </tr>\n",
       "    <tr>\n",
       "      <th>54230</th>\n",
       "      <td>72323</td>\n",
       "      <td>70694</td>\n",
       "      <td>5000</td>\n",
       "      <td>5000.0</td>\n",
       "      <td>350.0</td>\n",
       "      <td>36.0</td>\n",
       "      <td>11.54</td>\n",
       "      <td>164.98</td>\n",
       "      <td>C</td>\n",
       "      <td>C5</td>\n",
       "      <td>...</td>\n",
       "      <td>0.000000</td>\n",
       "      <td>182.27</td>\n",
       "      <td>1.84</td>\n",
       "      <td>2014-03-01</td>\n",
       "      <td>164.97</td>\n",
       "      <td>2014-12-01</td>\n",
       "      <td>2015-01-01</td>\n",
       "      <td>0.0</td>\n",
       "      <td>1</td>\n",
       "      <td>INDIVIDUAL</td>\n",
       "    </tr>\n",
       "  </tbody>\n",
       "</table>\n",
       "<p>54231 rows × 40 columns</p>\n",
       "</div>"
      ],
      "text/plain": [
       "             id  member_id  loan_amount  funded_amount  funded_amount_inv  \\\n",
       "0      38676116   41461848         8000         8000.0             8000.0   \n",
       "1      38656203   41440010        13200        13200.0            13200.0   \n",
       "2      38656154   41439961        16000        16000.0            16000.0   \n",
       "3      38656128   41439934        15000        15000.0            15000.0   \n",
       "4      38656121   41439927        15000        15000.0            15000.0   \n",
       "...         ...        ...          ...            ...                ...   \n",
       "54226     76597      76583         5000         5000.0             1775.0   \n",
       "54227    142608      74724         5000         5000.0             2350.0   \n",
       "54228    117045      70978         3500         3500.0             2225.0   \n",
       "54229     88854      70699         5000         5000.0              225.0   \n",
       "54230     72323      70694         5000         5000.0              350.0   \n",
       "\n",
       "       term_in_months  int_rate  instalment grade sub_grade  ...  \\\n",
       "0                36.0      7.49      248.82     A        A4  ...   \n",
       "1                36.0      6.99      407.52     A        A3  ...   \n",
       "2                36.0      7.49      497.63     A        A4  ...   \n",
       "3                36.0     14.31      514.93     C        C4  ...   \n",
       "4                36.0      6.03      456.54     A        A1  ...   \n",
       "...               ...       ...         ...   ...       ...  ...   \n",
       "54226            36.0      9.01      159.03     B        B2  ...   \n",
       "54227            36.0     10.59      162.73     C        C2  ...   \n",
       "54228            36.0      7.43      108.77     A        A2  ...   \n",
       "54229            36.0      7.43      155.38     A        A2  ...   \n",
       "54230            36.0     11.54      164.98     C        C5  ...   \n",
       "\n",
       "      total_rec_late_fee recoveries  collection_recovery_fee  \\\n",
       "0               0.000000       0.00                     0.00   \n",
       "1               0.000000       0.00                     0.00   \n",
       "2               0.000000       0.00                     0.00   \n",
       "3               0.000000       0.00                     0.00   \n",
       "4               0.000000       0.00                     0.00   \n",
       "...                  ...        ...                      ...   \n",
       "54226           0.000000       0.00                     0.00   \n",
       "54227         104.942381       0.00                     0.00   \n",
       "54228           0.000000       0.00                     0.00   \n",
       "54229           0.000000       0.00                     0.00   \n",
       "54230           0.000000     182.27                     1.84   \n",
       "\n",
       "      last_payment_date last_payment_amount next_payment_date  \\\n",
       "0            2022-01-01              248.82        2022-02-01   \n",
       "1            2022-01-01              407.52        2022-02-01   \n",
       "2            2021-10-01            12850.16               NaT   \n",
       "3            2021-06-01            13899.67               NaT   \n",
       "4            2022-01-01              456.54        2022-02-01   \n",
       "...                 ...                 ...               ...   \n",
       "54226        2016-07-01              160.61               NaT   \n",
       "54227        2016-10-01              490.01               NaT   \n",
       "54228        2016-09-01              110.58        2016-09-01   \n",
       "54229        2014-03-01                0.00               NaT   \n",
       "54230        2014-03-01              164.97        2014-12-01   \n",
       "\n",
       "      last_credit_pull_date collections_12_mths_ex_med  policy_code  \\\n",
       "0                2022-01-01                        0.0            1   \n",
       "1                2022-01-01                        0.0            1   \n",
       "2                2021-10-01                        0.0            1   \n",
       "3                2021-06-01                        0.0            1   \n",
       "4                2022-01-01                        0.0            1   \n",
       "...                     ...                        ...          ...   \n",
       "54226            2016-07-01                        0.0            1   \n",
       "54227            2016-09-01                        0.0            1   \n",
       "54228            2013-05-01                        0.0            1   \n",
       "54229            2013-05-01                        0.0            1   \n",
       "54230            2015-01-01                        0.0            1   \n",
       "\n",
       "       application_type  \n",
       "0            INDIVIDUAL  \n",
       "1            INDIVIDUAL  \n",
       "2            INDIVIDUAL  \n",
       "3            INDIVIDUAL  \n",
       "4            INDIVIDUAL  \n",
       "...                 ...  \n",
       "54226        INDIVIDUAL  \n",
       "54227        INDIVIDUAL  \n",
       "54228        INDIVIDUAL  \n",
       "54229        INDIVIDUAL  \n",
       "54230        INDIVIDUAL  \n",
       "\n",
       "[54231 rows x 40 columns]"
      ]
     },
     "execution_count": 47,
     "metadata": {},
     "output_type": "execute_result"
    }
   ],
   "source": [
    "# Convert columns to date type data\n",
    "df_p.date_transform([\"issue_date\", \"earliest_credit_line\", \"last_payment_date\", \"next_payment_date\", \"last_credit_pull_date\"])"
   ]
  },
  {
   "cell_type": "markdown",
   "metadata": {},
   "source": [
    "# Current state of the loan"
   ]
  },
  {
   "cell_type": "markdown",
   "metadata": {},
   "source": [
    "#### Calculate the percentage of the loans recovered against the investor funding"
   ]
  },
  {
   "cell_type": "code",
   "execution_count": 190,
   "metadata": {},
   "outputs": [
    {
     "data": {
      "text/plain": [
       "93.26"
      ]
     },
     "execution_count": 190,
     "metadata": {},
     "output_type": "execute_result"
    }
   ],
   "source": [
    "round(df[\"total_payment\"].sum()/df[\"funded_amount_inv\"].sum()*100, 2)\n"
   ]
  },
  {
   "cell_type": "markdown",
   "metadata": {},
   "source": [
    "Create a dataframe to veisualise the percentage and visualise it using seaborn."
   ]
  },
  {
   "cell_type": "code",
   "execution_count": null,
   "metadata": {},
   "outputs": [],
   "source": [
    "df_inv = pd.DataFrame({\"Type\": \"Loans\", \n",
    "                       \"Funded_by_investors\":[df[\"funded_amount_inv\"].sum()/df[\"funded_amount_inv\"].sum()*100], \n",
    "                       \"Repaid\":[df[\"total_payment\"].sum()/df[\"funded_amount_inv\"].sum()*100]})"
   ]
  },
  {
   "cell_type": "code",
   "execution_count": 316,
   "metadata": {},
   "outputs": [
    {
     "data": {
      "image/png": "[encoded data removed]",
      "text/plain": [
       "<Figure size 500x400 with 1 Axes>"
      ]
     },
     "metadata": {},
     "output_type": "display_data"
    }
   ],
   "source": [
    "# Set the figure size\n",
    "plt.figure(figsize=(5, 4))\n",
    "\n",
    "# Create barplots, which will be stack on top of each other\n",
    "bar1 = sns.barplot(x=\"Type\",  y=\"Funded_by_investors\", data=df_inv, color='darkblue')\n",
    "bar2 = sns.barplot(x=\"Type\", y=\"Repaid\", data=df_inv, estimator=sum, ci=None,  color='lightblue')\n",
    "\n",
    "\n",
    "# Create legends\n",
    "top_bar = mpatches.Patch(color='darkblue', label='Funded_by_investors')\n",
    "bottom_bar = mpatches.Patch(color='lightblue', label='Repaid amount')\n",
    "plt.legend(handles=[top_bar, bottom_bar])\n",
    "\n",
    "# Create tittle and labels\n",
    "plt.title(\"Recovered amount funded by investors\")\n",
    "plt.ylabel(\"Percentage\")\n",
    "plt.xlabel(\"Total Loans\")\n",
    "plt.grid(True, axis=\"y\") \n",
    "plt.show()\n",
    "\n",
    "# show the graph\n",
    "plt.show()"
   ]
  },
  {
   "cell_type": "markdown",
   "metadata": {},
   "source": [
    "#### Calculate the percentage of the loans  recovered against the total amount funded"
   ]
  },
  {
   "cell_type": "code",
   "execution_count": 318,
   "metadata": {},
   "outputs": [
    {
     "data": {
      "text/plain": [
       "92"
      ]
     },
     "execution_count": 318,
     "metadata": {},
     "output_type": "execute_result"
    }
   ],
   "source": [
    "round(df[\"total_payment\"].sum()/df[\"funded_amount\"].sum()*100)\n"
   ]
  },
  {
   "cell_type": "code",
   "execution_count": 319,
   "metadata": {},
   "outputs": [],
   "source": [
    "df_funded= pd.DataFrame({\"Type\": \"Loans\", \n",
    "                       \"Total_funded\":[df[\"funded_amount\"].sum()/df[\"funded_amount\"].sum()*100], \n",
    "                       \"Repaid\":[df[\"total_payment\"].sum()/df[\"funded_amount\"].sum().sum()*100]})"
   ]
  },
  {
   "cell_type": "code",
   "execution_count": 321,
   "metadata": {},
   "outputs": [
    {
     "data": {
      "image/png": "[encoded data removed]",
      "text/plain": [
       "<Figure size 500x400 with 1 Axes>"
      ]
     },
     "metadata": {},
     "output_type": "display_data"
    }
   ],
   "source": [
    "# Set the figure size\n",
    "plt.figure(figsize=(5, 4))\n",
    "\n",
    "# Create barplots, which will be stack on top of each other\n",
    "bar1 = sns.barplot(x=\"Type\",  y=\"Total_funded\", data=df_funded, color='darkblue')\n",
    "bar2 = sns.barplot(x=\"Type\", y=\"Repaid\", data=df_funded, estimator=sum, ci=None,  color='lightblue')\n",
    "\n",
    "\n",
    "# Create legends\n",
    "top_bar = mpatches.Patch(color='darkblue', label='Funded_by_investors')\n",
    "bottom_bar = mpatches.Patch(color='lightblue', label='Repaid amount')\n",
    "plt.legend(handles=[top_bar, bottom_bar])\n",
    "\n",
    "# Create tittle and labels\n",
    "plt.title(\"Recovered amount from the loan\")\n",
    "plt.ylabel(\"Percentage\")\n",
    "plt.xlabel(\"Total Loans\")\n",
    "plt.grid(True, axis=\"y\") \n",
    "plt.show()\n",
    "\n",
    "# show the graph\n",
    "plt.show()"
   ]
  },
  {
   "cell_type": "markdown",
   "metadata": {},
   "source": [
    "#### Calculate th percentage of the total amount would be recovered up to 6 months' in the future."
   ]
  },
  {
   "cell_type": "markdown",
   "metadata": {},
   "source": [
    "Calculate the number of months that the clients are left to pay."
   ]
  },
  {
   "cell_type": "code",
   "execution_count": 342,
   "metadata": {},
   "outputs": [],
   "source": [
    "# Get the number of months alrady paid\n",
    "df[\"remaining_monhts_to_pay\"] = df[\"term_in_months\"] - round((df[\"last_payment_date\"] - df[\"issue_date\"])/np.timedelta64(1, 'M'),)"
   ]
  },
  {
   "cell_type": "markdown",
   "metadata": {},
   "source": [
    "Convert any nagative values to zero."
   ]
  },
  {
   "cell_type": "code",
   "execution_count": 343,
   "metadata": {},
   "outputs": [],
   "source": [
    "\n",
    "# turn any negative values to 0\n",
    "df[\"remaining_monhts_to_pay\"] = df[\"remaining_monhts_to_pay\"].clip(lower=0)"
   ]
  },
  {
   "cell_type": "markdown",
   "metadata": {},
   "source": [
    "Calculate the total payments that the cleitns still owe."
   ]
  },
  {
   "cell_type": "code",
   "execution_count": 354,
   "metadata": {},
   "outputs": [],
   "source": [
    "# Amount paid in 6 months\n",
    "df[\"projection\"] = df[\"remaining_monhts_to_pay\"] * df[\"instalment\"]"
   ]
  },
  {
   "cell_type": "markdown",
   "metadata": {},
   "source": [
    "Replace nulls for 0."
   ]
  },
  {
   "cell_type": "code",
   "execution_count": 506,
   "metadata": {},
   "outputs": [],
   "source": [
    "# Rremove nulls\n",
    "df[\"projection\"] = df[\"projection\"].fillna(0.0)"
   ]
  },
  {
   "cell_type": "markdown",
   "metadata": {},
   "source": [
    "Filter the date for rows that still have 6 or less months to pay."
   ]
  },
  {
   "cell_type": "code",
   "execution_count": 360,
   "metadata": {},
   "outputs": [],
   "source": [
    "df_6months = df[df[\"remaining_monhts_to_pay\"]<=6]"
   ]
  },
  {
   "cell_type": "markdown",
   "metadata": {},
   "source": [
    "Calculate the percentage recoved of the toatal loan amount on the next 6 months."
   ]
  },
  {
   "cell_type": "code",
   "execution_count": 361,
   "metadata": {},
   "outputs": [
    {
     "data": {
      "text/plain": [
       "0.4069480931674659"
      ]
     },
     "execution_count": 361,
     "metadata": {},
     "output_type": "execute_result"
    }
   ],
   "source": [
    "df_6months[\"projection\"].sum()/df[\"funded_amount\"].sum()*100"
   ]
  },
  {
   "cell_type": "markdown",
   "metadata": {},
   "source": [
    "Create a datafraem to visualise it."
   ]
  },
  {
   "cell_type": "code",
   "execution_count": 362,
   "metadata": {},
   "outputs": [],
   "source": [
    "df_projection= pd.DataFrame({\"Type\": \"Loans\", \n",
    "                       \"Total_funded\":[df[\"funded_amount\"].sum()/df[\"funded_amount\"].sum()*100], \n",
    "                       \"Repaid\":[df_6months[\"projection\"].sum()/df[\"funded_amount\"].sum().sum()*100]})"
   ]
  },
  {
   "cell_type": "code",
   "execution_count": 363,
   "metadata": {},
   "outputs": [
    {
     "data": {
      "image/png": "[encoded data removed]",
      "text/plain": [
       "<Figure size 500x400 with 1 Axes>"
      ]
     },
     "metadata": {},
     "output_type": "display_data"
    }
   ],
   "source": [
    "# Set the figure size\n",
    "plt.figure(figsize=(5, 4))\n",
    "\n",
    "# Create barplots, which will be stack on top of each other\n",
    "bar1 = sns.barplot(x=\"Type\",  y=\"Total_funded\", data=df_projection, color='darkblue')\n",
    "bar2 = sns.barplot(x=\"Type\", y=\"Repaid\", data=df_projection, estimator=sum, ci=None,  color='lightblue')\n",
    "\n",
    "\n",
    "# Create legends\n",
    "top_bar = mpatches.Patch(color='darkblue', label='Funded_by_investors')\n",
    "bottom_bar = mpatches.Patch(color='lightblue', label='Repaid amount')\n",
    "plt.legend(handles=[top_bar, bottom_bar])\n",
    "\n",
    "# Create tittle and labels\n",
    "plt.title(\"Recovered amount from the loan\")\n",
    "plt.ylabel(\"Percentage\")\n",
    "plt.xlabel(\"Total Loans\")\n",
    "plt.grid(True, axis=\"y\") \n",
    "plt.show()\n",
    "\n",
    "# show the graph\n",
    "plt.show()"
   ]
  },
  {
   "cell_type": "markdown",
   "metadata": {},
   "source": [
    "#### Calculating loss"
   ]
  },
  {
   "cell_type": "markdown",
   "metadata": {},
   "source": [
    "Calculate number of mohts alrady paid"
   ]
  },
  {
   "cell_type": "code",
   "execution_count": 405,
   "metadata": {},
   "outputs": [],
   "source": [
    "df_c_o = df[df[\"loan_status\"] == \"Charged Off\"]\n",
    "df_cha_ff=df_c_o.copy(deep=True)"
   ]
  },
  {
   "cell_type": "markdown",
   "metadata": {},
   "source": [
    "Calculate the percentage of loans that had been charged off"
   ]
  },
  {
   "cell_type": "code",
   "execution_count": 387,
   "metadata": {},
   "outputs": [
    {
     "data": {
      "text/plain": [
       "11"
      ]
     },
     "execution_count": 387,
     "metadata": {},
     "output_type": "execute_result"
    }
   ],
   "source": [
    "round(len(df_cha_ff)/len(df[df[\"loan_status\"] != \"Charged Off\"])*100)"
   ]
  },
  {
   "cell_type": "markdown",
   "metadata": {},
   "source": [
    "Calculate percentange clients paid before the loan became charged off."
   ]
  },
  {
   "cell_type": "code",
   "execution_count": 446,
   "metadata": {},
   "outputs": [
    {
     "name": "stdout",
     "output_type": "stream",
     "text": [
      "The total amount of loans paid by the clients before being charged off was 37400589.04, which was 36% of the total funded amount of those loans.\n"
     ]
    }
   ],
   "source": [
    "amount_paid = round(df_cha_ff[\"total_payment\"].sum(), 2)\n",
    "percentage_paid = round((df_cha_ff[\"total_payment\"].sum()/df_cha_ff[\"loan_amount\"].sum())*100,)\n",
    "\n",
    "\n",
    "print(f\"The total amount of loans paid by the clients before being charged off was {amount_paid}, which was {percentage_paid}% of the total funded amount of those loans.\")"
   ]
  },
  {
   "cell_type": "markdown",
   "metadata": {},
   "source": [
    "#### Calculating projected loss "
   ]
  },
  {
   "cell_type": "markdown",
   "metadata": {},
   "source": [
    "Calculate the total payment that would have recived from the loan rather than using the loan amount given to the client, since this amount will not reflect the revenue gain through inetrest rates. This can be calculated by multiplying the remaining months to pay by the instalment amount and then adding the results to the total payment made to date."
   ]
  },
  {
   "cell_type": "code",
   "execution_count": 417,
   "metadata": {},
   "outputs": [],
   "source": [
    "# This expected amount takes into account the interest gained\n",
    "df_cha_ff[\"expected_amount\"] = df_cha_ff[\"total_payment\"] + df_cha_ff[\"projection\"]\n"
   ]
  },
  {
   "cell_type": "markdown",
   "metadata": {},
   "source": [
    "To calculate loss the amount paid until the last date will be subtracted from the total payment that the client should had made"
   ]
  },
  {
   "cell_type": "code",
   "execution_count": 499,
   "metadata": {},
   "outputs": [
    {
     "data": {
      "text/plain": [
       "64"
      ]
     },
     "execution_count": 499,
     "metadata": {},
     "output_type": "execute_result"
    }
   ],
   "source": [
    "per_rev_loss = round(df_cha_ff[\"projection\"].sum()/df_cha_ff[\"expected_amount\"].sum()*100)\n",
    "per_rev_loss"
   ]
  },
  {
   "cell_type": "code",
   "execution_count": 500,
   "metadata": {},
   "outputs": [
    {
     "data": {
      "text/html": [
       "<div>\n",
       "<style scoped>\n",
       "    .dataframe tbody tr th:only-of-type {\n",
       "        vertical-align: middle;\n",
       "    }\n",
       "\n",
       "    .dataframe tbody tr th {\n",
       "        vertical-align: top;\n",
       "    }\n",
       "\n",
       "    .dataframe thead th {\n",
       "        text-align: right;\n",
       "    }\n",
       "</style>\n",
       "<table border=\"1\" class=\"dataframe\">\n",
       "  <thead>\n",
       "    <tr style=\"text-align: right;\">\n",
       "      <th></th>\n",
       "      <th>Type</th>\n",
       "      <th>Expected_amount</th>\n",
       "      <th>Loss</th>\n",
       "    </tr>\n",
       "  </thead>\n",
       "  <tbody>\n",
       "    <tr>\n",
       "      <th>0</th>\n",
       "      <td>Loans</td>\n",
       "      <td>1.048607e+08</td>\n",
       "      <td>67460148.28</td>\n",
       "    </tr>\n",
       "  </tbody>\n",
       "</table>\n",
       "</div>"
      ],
      "text/plain": [
       "    Type  Expected_amount         Loss\n",
       "0  Loans     1.048607e+08  67460148.28"
      ]
     },
     "execution_count": 500,
     "metadata": {},
     "output_type": "execute_result"
    }
   ],
   "source": [
    "df_p_l= pd.DataFrame({\"Type\": \"Loans\", \n",
    "                       \"Expected_amount\": [df_cha_ff[\"expected_amount\"].sum()], \n",
    "                       \"Loss\":[df_cha_ff[\"projection\"].sum()]})\n",
    "\n",
    "df_p_l"
   ]
  },
  {
   "cell_type": "code",
   "execution_count": 503,
   "metadata": {},
   "outputs": [
    {
     "data": {
      "image/png": "[encoded data removed]",
      "text/plain": [
       "<Figure size 500x400 with 1 Axes>"
      ]
     },
     "metadata": {},
     "output_type": "display_data"
    }
   ],
   "source": [
    "# Set the figure size\n",
    "plt.figure(figsize=(5, 4))\n",
    "\n",
    "# Create barplots, which will be stack on top of each other\n",
    "bar1 = sns.barplot(x=\"Type\",  y=\"Expected_amount\", data=df_p_l, color='darkblue')\n",
    "bar2 = sns.barplot(x=\"Type\", y=\"Loss\", data=df_p_l, estimator=sum, ci=None,  color='lightblue')\n",
    "\n",
    "\n",
    "# Create legends\n",
    "top_bar = mpatches.Patch(color='darkblue', label='Amount expected')\n",
    "bottom_bar = mpatches.Patch(color='lightblue', label='Loss')\n",
    "plt.legend(handles=[top_bar, bottom_bar])\n",
    "\n",
    "# Create tittle and labels\n",
    "plt.title(\"Charged off loans\")\n",
    "plt.ylabel(\"Amount in pounds in the hundred millions\")\n",
    "plt.xlabel(\"Total Loans\")\n",
    "plt.grid(True, axis=\"y\") \n",
    "plt.show()\n",
    "\n",
    "# show the graph\n",
    "plt.show()"
   ]
  },
  {
   "cell_type": "markdown",
   "metadata": {},
   "source": [
    "#### Possible loss"
   ]
  },
  {
   "cell_type": "markdown",
   "metadata": {},
   "source": [
    "What percentage the loans are made off by clients that are behind their loan payments"
   ]
  },
  {
   "cell_type": "code",
   "execution_count": 467,
   "metadata": {},
   "outputs": [
    {
     "name": "stdout",
     "output_type": "stream",
     "text": [
      "The percentage of of loans made up by those who had pay late is 3%.\n"
     ]
    }
   ],
   "source": [
    "# Filter for clients with late fees\n",
    "df_late = df[df[\"total_rec_late_fee\"] > 0]\n",
    "\n",
    "# use number of rows in datafrmes to calculate the percentages\n",
    "per_late = round(len(df_late)/len(df)*100)\n",
    "\n",
    "print(f\"The percentage of of loans made up by clients who had pay late is {per_late}%.\")"
   ]
  },
  {
   "cell_type": "markdown",
   "metadata": {},
   "source": [
    "How many costumers are behind their loan payments"
   ]
  },
  {
   "cell_type": "code",
   "execution_count": 469,
   "metadata": {},
   "outputs": [
    {
     "name": "stdout",
     "output_type": "stream",
     "text": [
      "There are 1761 clients who had been late in their loan payments.\n"
     ]
    }
   ],
   "source": [
    "n_late_payments= len(df_late)\n",
    "print(f\"There are {n_late_payments} clients who had been late in their loan payments.\")"
   ]
  },
  {
   "cell_type": "markdown",
   "metadata": {},
   "source": [
    "Calculate the loss if these costumers loans became charged off "
   ]
  },
  {
   "cell_type": "code",
   "execution_count": 477,
   "metadata": {},
   "outputs": [
    {
     "name": "stdout",
     "output_type": "stream",
     "text": [
      "The company will loose £ 2987887.27 if the clients with late loan repayments become charged off.\n"
     ]
    }
   ],
   "source": [
    "# Subtract the total payments made by the clients from the total loan amounts\n",
    "loss_left_loan = round(df_late[\"loan_amount\"].sum() - df_late[\"total_payment\"].sum(), 2)\n",
    "print(f\"The company will loose £{loss_left_loan} if the clients with late loan repayments become charged off.\")"
   ]
  },
  {
   "cell_type": "markdown",
   "metadata": {},
   "source": [
    "Calculate how much loss if costumer would have complete all of their payments"
   ]
  },
  {
   "cell_type": "code",
   "execution_count": 479,
   "metadata": {},
   "outputs": [
    {
     "name": "stdout",
     "output_type": "stream",
     "text": [
      "The company will loose £11326904.62 if the clients with late loan repayments become charged off.\n"
     ]
    }
   ],
   "source": [
    "loss_pred_charged_if_off = round(df_late[\"projection\"].sum(), 2)\n",
    "print(f\"The company will loose £{loss_pred_charged_if_off } if the clients with late loan repayments become charged off.\")"
   ]
  },
  {
   "cell_type": "markdown",
   "metadata": {},
   "source": [
    " What percentage of total expected revenue do these customers and the customers who have already defaulted on their loan represent?"
   ]
  },
  {
   "cell_type": "code",
   "execution_count": 515,
   "metadata": {},
   "outputs": [
    {
     "name": "stdout",
     "output_type": "stream",
     "text": [
      "The percentage of total expected revenue made of clients which loans have default and from those with late fees if there were defaulted is 18%\n"
     ]
    }
   ],
   "source": [
    "# Calculate total expected revenue\n",
    "total_ex_rev = df[\"projection\"].sum()\n",
    "off_late = df_late[\"projection\"].sum() + df_cha_ff[\"projection\"].sum()\n",
    "\n",
    "per_rev_offlate = round(off_late/total_ex_rev*100) \n",
    "\n",
    "\n",
    "print(f\"The percentage of total expected revenue made of clients which loans have default and from those with late fees if there were defaulted is {per_rev_offlate}%\")\n"
   ]
  },
  {
   "cell_type": "markdown",
   "metadata": {},
   "source": [
    "#### Possible loss"
   ]
  },
  {
   "cell_type": "markdown",
   "metadata": {},
   "source": [
    "barplot, count plo"
   ]
  }
 ],
 "metadata": {
  "kernelspec": {
   "display_name": "EDA_finance_env",
   "language": "python",
   "name": "python3"
  },
  "language_info": {
   "codemirror_mode": {
    "name": "ipython",
    "version": 3
   },
   "file_extension": ".py",
   "mimetype": "text/x-python",
   "name": "python",
   "nbconvert_exporter": "python",
   "pygments_lexer": "ipython3",
   "version": "3.9.19"
  }
 },
 "nbformat": 4,
 "nbformat_minor": 2
}
