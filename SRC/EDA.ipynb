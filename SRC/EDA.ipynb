{
 "cells": [
  {
   "cell_type": "code",
   "execution_count": 1,
   "metadata": {},
   "outputs": [],
   "source": [
    "# Import all modules for exploratory data analysis\n",
    "\n",
    "# Extract and save data from database\n",
    "import db_utils as dbu\n",
    "# Change datatype of columns to the appripriate ones\n",
    "import pre_processing as prep\n",
    "# Get descritve informarion from the dataframe\n",
    "import extract_info as extract"
   ]
  },
  {
   "cell_type": "code",
   "execution_count": 8,
   "metadata": {},
   "outputs": [],
   "source": [
    "# Extract cloud database credentials from yaml file\n",
    "db_credentials = dbu.read_credentials(\"/Users/ChAre/OneDrive/Desktop/aicore/EDA_finance/credentials.yaml\")"
   ]
  },
  {
   "cell_type": "code",
   "execution_count": 9,
   "metadata": {},
   "outputs": [],
   "source": [
    "# Initialise RDSDatabaseConnector class\n",
    "db_connector = dbu.RDSDatabaseConnector(db_credentials)"
   ]
  },
  {
   "cell_type": "code",
   "execution_count": 13,
   "metadata": {},
   "outputs": [
    {
     "name": "stdout",
     "output_type": "stream",
     "text": [
      "The connected database has the following tables: ['loan_payments']\n"
     ]
    }
   ],
   "source": [
    "# Connect to database and extract desire database in the cloud\n",
    "# RDSDatabaseConnector.save_data() call upon: extract_data, \n",
    "db_connector.save_data()"
   ]
  },
  {
   "cell_type": "code",
   "execution_count": 14,
   "metadata": {},
   "outputs": [],
   "source": [
    "# Load data into pyhton\n",
    "df_unclean = db_connector.load_data(\"./loan_payments\")"
   ]
  },
  {
   "cell_type": "code",
   "execution_count": null,
   "metadata": {},
   "outputs": [],
   "source": []
  }
 ],
 "metadata": {
  "kernelspec": {
   "display_name": "EDA_finance_env",
   "language": "python",
   "name": "python3"
  },
  "language_info": {
   "codemirror_mode": {
    "name": "ipython",
    "version": 3
   },
   "file_extension": ".py",
   "mimetype": "text/x-python",
   "name": "python",
   "nbconvert_exporter": "python",
   "pygments_lexer": "ipython3",
   "version": "3.12.4"
  }
 },
 "nbformat": 4,
 "nbformat_minor": 2
}
