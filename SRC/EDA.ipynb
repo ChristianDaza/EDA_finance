{
 "cells": [
  {
   "cell_type": "code",
   "execution_count": null,
   "metadata": {},
   "outputs": [],
   "source": [
    "# Import all modules for exploratory data analysis\n",
    "\n",
    "# Extract and save data from database\n",
    "import db_utils as dbu\n",
    "# Change datatype of columns to the appripriate ones\n",
    "import pre_processing as prep\n",
    "# Get descritve informarion from the dataframe\n",
    "import extract_info as extract \n",
    "# Creates plots for data\n",
    "import plot as plo\n",
    "import pandas as pd\n",
    "import numpy as np\n",
    "from statsmodels.graphics.gofplots import qqplot\n",
    "from scipy import stats\n",
    "from matplotlib import pyplot\n",
    "import matplotlib.pyplot as plt\n",
    "import seaborn as sns\n",
    "import statsmodels.api as sm\n",
    "\n",
    "\n"
   ]
  },
  {
   "cell_type": "code",
   "execution_count": null,
   "metadata": {},
   "outputs": [],
   "source": [
    "# Extract cloud database credentials from yaml file\n",
    "db_credentials = dbu.read_credentials(\"/Users/ChAre/OneDrive/Desktop/aicore/EDA_finance/credentials.yaml\")"
   ]
  },
  {
   "cell_type": "markdown",
   "metadata": {},
   "source": [
    "# Extracting the data from Amazon RDS"
   ]
  },
  {
   "cell_type": "code",
   "execution_count": null,
   "metadata": {},
   "outputs": [],
   "source": [
    "# Initialise RDSDatabaseConnector class\n",
    "db_connector = dbu.RDSDatabaseConnector(db_credentials)"
   ]
  },
  {
   "cell_type": "code",
   "execution_count": null,
   "metadata": {},
   "outputs": [],
   "source": [
    "# Connect to database and extract desire database in the cloud\n",
    "# RDSDatabaseConnector.save_data() call upon: extract_data, \n",
    "#db_connector.save_data()"
   ]
  },
  {
   "cell_type": "code",
   "execution_count": null,
   "metadata": {},
   "outputs": [],
   "source": [
    "# Load data into pyhton\n",
    "df_unclean = db_connector.load_data(\"./loan_payments\")"
   ]
  },
  {
   "cell_type": "markdown",
   "metadata": {},
   "source": [
    "# Data preprocessing"
   ]
  },
  {
   "cell_type": "code",
   "execution_count": null,
   "metadata": {},
   "outputs": [],
   "source": [
    "# Inspect the columns data types\n",
    "df_unclean.info()"
   ]
  },
  {
   "cell_type": "code",
   "execution_count": null,
   "metadata": {},
   "outputs": [],
   "source": [
    "# Create instance of preprocessing of DataTransform class for preprocessing.\n",
    "df_prep = prep.DataTransform(df_unclean)"
   ]
  },
  {
   "cell_type": "code",
   "execution_count": null,
   "metadata": {},
   "outputs": [],
   "source": [
    "# Transform columns into the categorical data type\n",
    "df_prep.category_transform([\"grade\", \"sub_grade\", \"home_ownership\", \"verification_status\", \"loan_status\", \"payment_plan\", \"purpose\", \"application_type\", \"employment_length\", \"policy_code\", \"term\"])"
   ]
  },
  {
   "cell_type": "code",
   "execution_count": null,
   "metadata": {},
   "outputs": [],
   "source": [
    "# Convert columns to date type data\n",
    "df_prep.date_transform([\"issue_date\", \"earliest_credit_line\", \"last_payment_date\", \"next_payment_date\", \"last_credit_pull_date\"])"
   ]
  },
  {
   "cell_type": "code",
   "execution_count": null,
   "metadata": {},
   "outputs": [],
   "source": [
    "# Preporcess term column\n",
    "\n",
    "# Convert column values into strings\n",
    "df_prep.string_transform([\"term\"])\n",
    "\n",
    "# Remove unwanted characters from the column values\n",
    "df_prep.remove_characters(\"term\", [\"months\"])\n",
    "\n",
    "# Transform column values to numeric\n",
    "df_prep.numeric_transform([\"term\"])\n",
    "\n",
    "#Rename column to reflect the unit for the values\n",
    "df_prep.rename_column(\"term\", \"term_in_months\")"
   ]
  },
  {
   "cell_type": "code",
   "execution_count": null,
   "metadata": {},
   "outputs": [],
   "source": [
    "# Create DataFrameInfo instance to extract useful information from the dataframe.\n",
    "df_inf = extract.DataFrameInfo(df_prep.dataframe)"
   ]
  },
  {
   "cell_type": "code",
   "execution_count": null,
   "metadata": {},
   "outputs": [],
   "source": [
    "# Check the data types of the columns after the transformations.\n",
    "df_inf.check_columns_type()"
   ]
  },
  {
   "cell_type": "code",
   "execution_count": null,
   "metadata": {},
   "outputs": [],
   "source": [
    "# Extract statistical values: median, standard deviation and mean from the columns\n",
    "# Omitted the id and member_id columns because they are used just for identifying individuals\n",
    "df_inf.descriptive_stats( exclude_columns=[\"id\", \"member_id\"]) "
   ]
  },
  {
   "cell_type": "code",
   "execution_count": null,
   "metadata": {},
   "outputs": [],
   "source": [
    "# Count distinct values in categorical columns\n",
    "df_inf.unique_valus_count()"
   ]
  },
  {
   "cell_type": "code",
   "execution_count": null,
   "metadata": {},
   "outputs": [],
   "source": [
    "# Print out the shape of the DataFrame\n",
    "df_inf.data_shape()"
   ]
  },
  {
   "cell_type": "code",
   "execution_count": null,
   "metadata": {},
   "outputs": [],
   "source": [
    "# Generate a count/percentage count of NULL values in each column\n",
    "df_inf.count_null(percentage=True)"
   ]
  },
  {
   "cell_type": "markdown",
   "metadata": {},
   "source": [
    "Base on the percentage of missing data I decided to:\n",
    "drop:\n",
    " - mths_since_last_delinq:        57.2% missing values\n",
    " - mths_since_last_record:        88.6% missing values\n",
    " - mths_since_last_major_derog    86.2% missing values\n",
    "\n",
    "Impute:\n",
    "- funded_amount                   5.5% missing values\n",
    "- term_in_months                  8.8% missing values\n",
    "- int_rate                        9.5% missing values\n",
    "- employment_length               3.9% missing values\n",
    "- last_payment_date               0.1% missing values\n",
    "- last_credit_pull_date           0.013% missing values\n",
    "- collections_12_mths_ex_med      0.094% missing values\n",
    "- next_payment_date               86.2%  missing values\n",
    "\n",
    "Although the next_payment_date column has 86.2% of missing values, it can be useful to project profit in the following months. Therefore I chose to impute it. I also prioritise imputing values rather than droppoing rows since it will will reduce the data in other column makeing it less reliable to impute values."
   ]
  },
  {
   "cell_type": "code",
   "execution_count": null,
   "metadata": {},
   "outputs": [],
   "source": [
    "# Dropping columns\n",
    "df_prep.remove_columns([\"mths_since_last_delinq\", \"mths_since_last_record\", \"mths_since_last_major_derog\"])"
   ]
  },
  {
   "cell_type": "markdown",
   "metadata": {},
   "source": [
    "Since most of the columns to impute have a low percentage of missing data I decide to use the mean or the median. To decide which of the two method I should use for each column I will carry a normality test for each column."
   ]
  },
  {
   "cell_type": "code",
   "execution_count": null,
   "metadata": {},
   "outputs": [],
   "source": [
    "# Normality test\n",
    "df_inf.norm_test(\"funded_amount\")\n",
    "# Historgram\n",
    "plt.figure(figsize=(10, 6))\n",
    "sns.histplot(data=df_prep.dataframe, x=\"funded_amount\", bins= 50)\n",
    "plt.title('Distribution of the total amount committed to the loan at that point in time.')\n",
    "plt.xlabel('total amount committed to the loan')\n",
    "plt.ylabel('Frequency')\n",
    "plt.grid(True, axis=\"y\")\n",
    "plt.show()\n",
    "# QQplot\n",
    "qq_plot = qqplot(df_prep.dataframe[\"funded_amount\"], scale=1 ,line='q')\n",
    "pyplot.show()"
   ]
  },
  {
   "cell_type": "markdown",
   "metadata": {},
   "source": [
    "Although the normality test had a significant p value, both histograp and QQ-plot showed that the data is skewed and therefore i will use the median.\n"
   ]
  },
  {
   "cell_type": "code",
   "execution_count": null,
   "metadata": {},
   "outputs": [],
   "source": [
    "# Imputing \"funded_amount\" using the median\n",
    "\n",
    "# Get the mendian\n",
    "df_inf.descriptive_stats(selected_column=[\"funded_amount\"])\n",
    "# replace null values\n",
    "df_prep.replace_null(\"funded_amount\", 12000.0)\n"
   ]
  },
  {
   "cell_type": "code",
   "execution_count": null,
   "metadata": {},
   "outputs": [],
   "source": [
    "# Normality test\n",
    "df_inf.norm_test(\"term_in_months\")\n",
    "# Historgram\n",
    "plt.figure(figsize=(10, 6))\n",
    "sns.histplot(data=df_prep.dataframe, x=\"term_in_months\", bins= 10)\n",
    "plt.title('Distribution of the total monthly payments for the loan')\n",
    "plt.xlabel('Number of monthly payments')\n",
    "plt.ylabel('Frequency')\n",
    "plt.grid(True, axis=\"y\")\n",
    "plt.show()\n",
    "\n",
    "# QQplot\n",
    "qq_plot = qqplot(df_prep.dataframe[\"term_in_months\"], scale=1 ,line='q')\n",
    "pyplot.show()"
   ]
  },
  {
   "cell_type": "markdown",
   "metadata": {},
   "source": [
    "Although the normality test had a significant p value, both histograp and QQ-plot showed that the data is only two values and since is categorical we impute the null values using the median. "
   ]
  },
  {
   "cell_type": "code",
   "execution_count": null,
   "metadata": {},
   "outputs": [],
   "source": [
    "# Impute values of the \"term_in_months\" column\n",
    "\n",
    "# Get the mendian\n",
    "df_inf.descriptive_stats(selected_column=[\"term_in_months\"])\n",
    "# replace null values\n",
    "df_prep.replace_null(\"term_in_months\", 36.0)"
   ]
  },
  {
   "cell_type": "code",
   "execution_count": null,
   "metadata": {},
   "outputs": [],
   "source": [
    "# Normality test\n",
    "df_inf.norm_test(\"int_rate\")\n",
    "# Historgram\n",
    "df_prep.dataframe[\"int_rate\"].hist(bins=20)\n",
    "# QQplot\n",
    "qq_plot = qqplot(df_prep.dataframe[\"int_rate\"], scale=1 ,line='q')\n",
    "pyplot.show()"
   ]
  },
  {
   "cell_type": "markdown",
   "metadata": {},
   "source": []
  },
  {
   "cell_type": "markdown",
   "metadata": {},
   "source": [
    "Although the normality test had a significant p value, both histograp and QQ-plot showed that the data is skewed and therefore i will use the median."
   ]
  },
  {
   "cell_type": "code",
   "execution_count": null,
   "metadata": {},
   "outputs": [],
   "source": [
    "# Impute values of the \"term_in_months\" column\n",
    "\n",
    "# Get the mendian\n",
    "df_inf.descriptive_stats(selected_column=[\"int_rate\"])\n",
    "# replace null values\n",
    "df_prep.replace_null(\"int_rate\", 13.16)"
   ]
  },
  {
   "cell_type": "code",
   "execution_count": null,
   "metadata": {},
   "outputs": [],
   "source": [
    "# Historgram\n",
    "plt.figure(figsize=(10, 6))\n",
    "sns.histplot(data=df_prep.dataframe, x=\"last_payment_date\", bins= 30)\n",
    "plt.title('Distribution of the Date on which last month payment was received')\n",
    "plt.xlabel('Dates')\n",
    "plt.ylabel('Frequency')\n",
    "plt.grid(True, axis=\"y\")\n",
    "plt.show()"
   ]
  },
  {
   "cell_type": "markdown",
   "metadata": {},
   "source": [
    "The histogram showed significant skewness of the data but since the data is date type the median."
   ]
  },
  {
   "cell_type": "code",
   "execution_count": null,
   "metadata": {},
   "outputs": [],
   "source": [
    "# Impute values of the \"term_in_months\" column\n",
    "\n",
    "# Get the mendian\n",
    "df_inf.descriptive_stats( selected_column=[\"last_payment_date\"])\n",
    "\n",
    "# replace null values\n",
    "df_prep.replace_null(\"last_payment_date\",  pd.to_datetime('2022-01-01 00:00:00'))"
   ]
  },
  {
   "cell_type": "code",
   "execution_count": null,
   "metadata": {},
   "outputs": [],
   "source": [
    "#Historgram\n",
    "plt.figure(figsize=(10, 6))\n",
    "sns.histplot(data=df_prep.dataframe, x=\"last_credit_pull_date\", bins= 5)\n",
    "plt.title('Distribution of the most recent month that the loan company pulled credit for this loan')\n",
    "plt.xlabel('Most recent month')\n",
    "plt.ylabel('Frequency')\n",
    "plt.grid(True, axis=\"y\")\n",
    "plt.show()"
   ]
  },
  {
   "cell_type": "markdown",
   "metadata": {},
   "source": [
    "The histogram showed significant skewness of the data but since the data is date type the median."
   ]
  },
  {
   "cell_type": "code",
   "execution_count": null,
   "metadata": {},
   "outputs": [],
   "source": [
    "# Impute values of the \"last_payment_date column\n",
    "\n",
    "# Get the mendian\n",
    "df_inf.descriptive_stats( selected_column=[\"last_credit_pull_date\"])\n",
    "\n",
    "# replace null values\n",
    "df_prep.replace_null(\"last_credit_pull_date\",  pd.to_datetime('2022-01-01 00:00:00'))"
   ]
  },
  {
   "cell_type": "code",
   "execution_count": null,
   "metadata": {},
   "outputs": [],
   "source": [
    "#Historgram\n",
    "plt.figure(figsize=(10, 6))\n",
    "sns.histplot(data=df_prep.dataframe, x=\"collections_12_mths_ex_med\", bins= 5)\n",
    "plt.title('Distribution of the Number of collections in 12 months excluding medical collections')\n",
    "plt.xlabel('Number of collections')\n",
    "plt.ylabel('Frequency')\n",
    "plt.grid(True, axis=\"y\")\n",
    "plt.show()"
   ]
  },
  {
   "cell_type": "code",
   "execution_count": null,
   "metadata": {},
   "outputs": [],
   "source": [
    "# Get the median\n",
    "df_inf.descriptive_stats(selected_column=[\"collections_12_mths_ex_med\"])\n",
    "# replace null values\n",
    "df_prep.replace_null(\"collections_12_mths_ex_med\", 0.0)"
   ]
  },
  {
   "cell_type": "code",
   "execution_count": null,
   "metadata": {},
   "outputs": [],
   "source": [
    "# Histogram\n",
    "plt.figure(figsize=(10, 6))\n",
    "sns.histplot(data=df_prep.dataframe, x=\"next_payment_date\", bins= 5)\n",
    "plt.title('Distribution of the next scheduled payment date')\n",
    "plt.xlabel('Next schedual payment date')\n",
    "plt.ylabel('Frequency')\n",
    "plt.grid(True, axis=\"y\")\n",
    "plt.show()"
   ]
  },
  {
   "cell_type": "code",
   "execution_count": null,
   "metadata": {},
   "outputs": [],
   "source": [
    "# Histogram\n",
    "plt.figure(figsize=(10, 6))\n",
    "sns.histplot(data=df_prep.dataframe, x=\"employment_length\", bins= 5)\n",
    "plt.title('Duration in which the client has been working')\n",
    "plt.xlabel('Lenght of employment')\n",
    "plt.ylabel('Frequency')\n",
    "plt.grid(True, axis=\"y\")\n",
    "plt.show()"
   ]
  },
  {
   "cell_type": "markdown",
   "metadata": {},
   "source": [
    "The histogram showed skweness of the data and since it is categorical data, I will use the mode to impute the missing values."
   ]
  },
  {
   "cell_type": "code",
   "execution_count": null,
   "metadata": {},
   "outputs": [],
   "source": [
    "# Imputing\n",
    "# Get the mode\n",
    "df_prep.dataframe[\"employment_length\"].mode()\n",
    "# replace null values\n",
    "df_prep.replace_null(\"employment_length\",  \"10+ years\")\n"
   ]
  },
  {
   "cell_type": "code",
   "execution_count": null,
   "metadata": {},
   "outputs": [],
   "source": [
    "plots = plo.Plotter(df_prep.dataframe)\n"
   ]
  },
  {
   "cell_type": "code",
   "execution_count": null,
   "metadata": {},
   "outputs": [],
   "source": [
    "plots.missing_values_plot()"
   ]
  },
  {
   "cell_type": "markdown",
   "metadata": {},
   "source": [
    "Now I will check the skewnessof the numeric and date type columns, wiht >= 0.5 showing skewness."
   ]
  },
  {
   "cell_type": "code",
   "execution_count": null,
   "metadata": {},
   "outputs": [],
   "source": [
    "df_inf.skew_check()"
   ]
  },
  {
   "cell_type": "markdown",
   "metadata": {},
   "source": [
    "These columns are skew I will proceed to transform them. All have positive skew.\n",
    "\n",
    "- loan_amount:        0.81 \n",
    "- funded_amount_inv:  0.81 \n",
    "- out_prncp:          2.36 \n",
    "- out_prncp_inv:      2.36\n",
    "- total_payment:      1.27 \n",
    "- total_payment_inv:  1.26 \n",
    "- total_rec_int:      2.2 \n",
    "- total_rec_late_fee: 13.18 \n",
    "- recoveries:         14.59 "
   ]
  },
  {
   "cell_type": "code",
   "execution_count": null,
   "metadata": {},
   "outputs": [],
   "source": [
    "# Visualise the skew\n",
    "plt.figure(figsize=(10, 6))\n",
    "sns.histplot(data=df_prep.dataframe, x=\"loan_amount\", bins= 10)\n",
    "plt.title('Amount of loan the applicant received')\n",
    "plt.xlabel('Amount in pounds')\n",
    "plt.ylabel('Frequency')\n",
    "plt.grid(True, axis=\"y\")\n",
    "plt.show()"
   ]
  },
  {
   "cell_type": "markdown",
   "metadata": {},
   "source": [
    "From the histogram we can confirm that the data is positively/right skewed and therefore it will need to be transform. Since there are not negative number box-Cox but we can also use the log transformation. Therefore I will apply the log transformation."
   ]
  },
  {
   "cell_type": "code",
   "execution_count": null,
   "metadata": {},
   "outputs": [],
   "source": [
    "# Apply log transformation.\n",
    "loan_log_transform = df_prep.skew_transform(df_prep.dataframe[\"loan_amount\"], transformation=\"log\")\n",
    "loan_BC_transform = df_prep.skew_transform(df_prep.dataframe[\"loan_amount\"], transformation=\"BC\")\n",
    "loan_YJ_transform = df_prep.skew_transform(df_prep.dataframe[\"loan_amount\"], transformation=\"YJ\")\n",
    "\n",
    "# Histogram for log transform data\n",
    "plt.figure(figsize=(10, 6))\n",
    "sns.histplot(data=loan_log_transform, x=\"log\", bins= 10)\n",
    "plt.title('Log transformed of the amount of loan the applicant received')\n",
    "plt.xlabel('Amount in pounds')\n",
    "plt.ylabel('Frequency')\n",
    "plt.grid(True, axis=\"y\") \n",
    "plt.show()\n",
    "\n",
    "# Histogram for Box-Cox transform data\n",
    "plt.figure(figsize=(10, 6))\n",
    "sns.histplot(data=loan_BC_transform , x=\"Box-Cox\", bins= 10)\n",
    "plt.title('Box-Cox transformed of the amount of loan the applicant received')\n",
    "plt.xlabel('Amount in pounds')\n",
    "plt.ylabel('Frequency')\n",
    "plt.grid(True, axis=\"y\")\n",
    "plt.show()\n",
    "\n",
    "# Histogram for Yeo-Johnson transform data\n",
    "plt.figure(figsize=(10, 6))\n",
    "sns.histplot(data=loan_YJ_transform, x=\"Yeo-Johnson\", bins= 10)\n",
    "plt.title('Yeo-Johnson transformed of the amount of loan the applicant received')\n",
    "plt.xlabel('Amount in pounds')\n",
    "plt.ylabel('Frequency')\n",
    "plt.grid(True, axis=\"y\")\n",
    "plt.show()"
   ]
  },
  {
   "cell_type": "code",
   "execution_count": null,
   "metadata": {},
   "outputs": [],
   "source": [
    "\n",
    "# QQplot\n",
    "qq_plot = qqplot(loan_log_transform[\"log\"], scale=1 ,line='q')\n",
    "qq_plot = qqplot(loan_BC_transform[\"Box-Cox\"], scale=1 ,line='q')\n",
    "qq_plot = qqplot(loan_YJ_transform[\"Yeo-Johnson\"], scale=1 ,line='q')\n",
    "pyplot.show()"
   ]
  },
  {
   "cell_type": "markdown",
   "metadata": {},
   "source": [
    "Based on histograms and qqplots the Box-Cox and Yeo-Johnson trasnformation produce the greater effect. Since  all the data in the column is positive the will proceed wiht Box-Cox transformation."
   ]
  },
  {
   "cell_type": "code",
   "execution_count": null,
   "metadata": {},
   "outputs": [],
   "source": [
    "df_prep.dataframe[\"loan_amount\"] = df_prep.skew_transform(df_prep.dataframe[\"loan_amount\"], transformation=\"BC\")\n",
    "\n",
    "        "
   ]
  },
  {
   "cell_type": "code",
   "execution_count": null,
   "metadata": {},
   "outputs": [],
   "source": [
    "plots.hist_plot(dataframe= plots.dataframe,\n",
    "                column=\"funded_amount\",\n",
    "                title= \"The total amount committed to the loan at that point in time\",\n",
    "                xlabel=\"Amount in pounds\",\n",
    "                ylabel=\"Frequency\")"
   ]
  },
  {
   "cell_type": "markdown",
   "metadata": {},
   "source": [
    "This histogram shows positive/right skew of the data."
   ]
  },
  {
   "cell_type": "code",
   "execution_count": null,
   "metadata": {},
   "outputs": [],
   "source": [
    "# Apply log transformation.\n",
    "funded_am_log_transform = df_prep.skew_transform(df_prep.dataframe[\"funded_amount\"], transformation=\"log\")\n",
    "funded_am_BC_transform = df_prep.skew_transform(df_prep.dataframe[\"funded_amount\"], transformation=\"BC\")\n",
    "funded_am_YJ_transform = df_prep.skew_transform(df_prep.dataframe[\"funded_amount\"], transformation=\"YJ\")\n",
    "\n",
    "plots.hist_plot(dataframe= funded_am_log_transform,\n",
    "                column=\"log\",\n",
    "                title= \" Log transformed total amount committed to the loan at that point in time\",\n",
    "                xlabel=\"Amount in pounds\",\n",
    "                ylabel=\"Frequency\")\n",
    "\n",
    "plots.hist_plot(dataframe= funded_am_BC_transform,\n",
    "                column=\"Box-Cox\",\n",
    "                title= \"Box-Cox transformed total amount committed to the loan at that point in time\",\n",
    "                xlabel=\"Amount in pounds\",\n",
    "                ylabel=\"Frequency\")\n",
    "\n",
    "plots.hist_plot(dataframe= funded_am_YJ_transform,\n",
    "                column=\"Yeo-Johnson\",\n",
    "                title= \"Yeo-Johnson transformed total amount committed to the loan at that point in time\",\n",
    "                xlabel=\"Amount in pounds\",\n",
    "                ylabel=\"Frequency\")"
   ]
  },
  {
   "cell_type": "code",
   "execution_count": null,
   "metadata": {},
   "outputs": [],
   "source": [
    "plots.plot_qq(dataframe=funded_am_log_transform,\n",
    "              column=\"log\")\n",
    "plots.plot_qq(dataframe=funded_am_BC_transform,\n",
    "              column=\"Box-Cox\")\n",
    "plots.plot_qq(dataframe=funded_am_YJ_transform,\n",
    "              column=\"Yeo-Johnson\")"
   ]
  },
  {
   "cell_type": "markdown",
   "metadata": {},
   "source": [
    "Both Box-Cox and Yeo-Johnson seem to produce the same normalisation on the data and since there are no zero or negative  values I will apply the Yeo-Johnson transformation."
   ]
  },
  {
   "cell_type": "code",
   "execution_count": null,
   "metadata": {},
   "outputs": [],
   "source": [
    "\n",
    "df_prep.dataframe[\"funded_amount\"] = funded_am_BC_transform"
   ]
  },
  {
   "cell_type": "code",
   "execution_count": null,
   "metadata": {},
   "outputs": [],
   "source": [
    "# Visualise the skew of funded_amount_inv\n",
    "plt.figure(figsize=(10, 6))\n",
    "sns.histplot(data=df_prep.dataframe, x=\"funded_amount_inv\", bins= 10)\n",
    "plt.title('Distribution of the total amount committed by the insvestors for that loan at that point in time')\n",
    "plt.xlabel('Total amount comitted in pounds')\n",
    "plt.ylabel('Frequency')\n",
    "plt.grid(True, axis=\"y\")\n",
    "plt.show()"
   ]
  },
  {
   "cell_type": "markdown",
   "metadata": {},
   "source": [
    "Histogram shows positve/right skew of the data."
   ]
  },
  {
   "cell_type": "code",
   "execution_count": null,
   "metadata": {},
   "outputs": [],
   "source": [
    "# Apply log transformation.\n",
    "funded_log_transform = df_prep.skew_transform(df_prep.dataframe[\"funded_amount_inv\"], transformation=\"log\")\n",
    "funded_YJ_transform = df_prep.skew_transform(df_prep.dataframe[\"funded_amount_inv\"], transformation=\"YJ\")\n",
    "\n",
    "# Histogram for log transform data\n",
    "plt.figure(figsize=(10, 6))\n",
    "sns.histplot(data=funded_log_transform, x=\"log\", bins= 10)\n",
    "plt.title('Log transformed of the total amount committed by investors for that loan at that point in time')\n",
    "plt.xlabel('Amount in pounds')\n",
    "plt.ylabel('Frequency')\n",
    "plt.grid(True, axis=\"y\") \n",
    "plt.show()\n",
    "\n",
    "\n",
    "# Histogram for Yeo-Johnson transform data\n",
    "plt.figure(figsize=(10, 6))\n",
    "sns.histplot(data=funded_YJ_transform, x=\"Yeo-Johnson\", bins= 10)\n",
    "plt.title('Yeo-Johnson transformed of the total amount committed by investors for that loan at that point in time')\n",
    "plt.xlabel('Amount in pounds')\n",
    "plt.ylabel('Frequency')\n",
    "plt.grid(True, axis=\"y\")\n",
    "plt.show()"
   ]
  },
  {
   "cell_type": "code",
   "execution_count": null,
   "metadata": {},
   "outputs": [],
   "source": [
    "# QQplot\n",
    "qq_plot = qqplot(funded_log_transform[\"log\"], scale=1 ,line='q')\n",
    "qq_plot = qqplot(funded_YJ_transform[\"Yeo-Johnson\"], scale=1 ,line='q')\n",
    "pyplot.show()"
   ]
  },
  {
   "cell_type": "markdown",
   "metadata": {},
   "source": [
    " on histograms and qqplots the  Yeo-Johnson trasnformation produce the greater effect. The BOx-Cox transformation could not be done due to all values not being greater than 0."
   ]
  },
  {
   "cell_type": "code",
   "execution_count": null,
   "metadata": {},
   "outputs": [],
   "source": [
    "plt.figure(figsize=(10, 6))\n",
    "sns.histplot(data=df_prep.dataframe, x=\"instalment\", bins= 10)\n",
    "plt.title('Monthly payment owned by the borrower including interest')\n",
    "plt.xlabel('Amount in pounds')\n",
    "plt.ylabel('Frequency')\n",
    "plt.grid(True, axis=\"y\") \n",
    "plt.show()"
   ]
  },
  {
   "cell_type": "markdown",
   "metadata": {},
   "source": [
    "This histogram showed positive/right skew."
   ]
  },
  {
   "cell_type": "code",
   "execution_count": null,
   "metadata": {},
   "outputs": [],
   "source": [
    "# Apply log transformation.\n",
    "instal_log_transform = df_prep.skew_transform(df_prep.dataframe[\"instalment\"], transformation=\"log\")\n",
    "instal_BC_transform = df_prep.skew_transform(df_prep.dataframe[\"instalment\"], transformation=\"BC\")\n",
    "instal_YJ_transform = df_prep.skew_transform(df_prep.dataframe[\"instalment\"], transformation=\"YJ\")\n",
    "\n",
    "# Histogram for log transform data\n",
    "plt.figure(figsize=(10, 6))\n",
    "sns.histplot(data=instal_log_transform, x=\"log\", bins= 10)\n",
    "plt.title('Log transformed of the monthly payment owned by the borrower including interest')\n",
    "plt.xlabel('Amount in pounds')\n",
    "plt.ylabel('Frequency')\n",
    "plt.grid(True, axis=\"y\") \n",
    "plt.show()\n",
    "\n",
    "# Histogram for log transform data\n",
    "plt.figure(figsize=(10, 6))\n",
    "sns.histplot(data=instal_BC_transform, x=\"Box-Cox\", bins= 10)\n",
    "plt.title('Cox-Box transformed of the monthly payment owned by the borrower including interest')\n",
    "plt.xlabel('Amount in pounds')\n",
    "plt.ylabel('Frequency')\n",
    "plt.grid(True, axis=\"y\") \n",
    "plt.show()\n",
    "\n",
    "# Histogram for Yeo-Johnson transform data\n",
    "plt.figure(figsize=(10, 6))\n",
    "sns.histplot(data=instal_YJ_transform, x=\"Yeo-Johnson\", bins= 10)\n",
    "plt.title('Yeo-Johnson transformed of the monthly payment owned by the borrower including interest')\n",
    "plt.xlabel('Amount in pounds')\n",
    "plt.ylabel('Frequency')\n",
    "plt.grid(True, axis=\"y\")\n",
    "plt.show()"
   ]
  },
  {
   "cell_type": "code",
   "execution_count": null,
   "metadata": {},
   "outputs": [],
   "source": [
    "\n",
    "# QQplot\n",
    "qq_plot = qqplot(instal_log_transform[\"log\"], scale=1 ,line='q')\n",
    "qq_plot = qqplot(instal_BC_transform[\"Box-Cox\"], scale=1 ,line='q')\n",
    "qq_plot = qqplot(instal_YJ_transform[\"Yeo-Johnson\"], scale=1 ,line='q')\n",
    "pyplot.show()"
   ]
  },
  {
   "cell_type": "markdown",
   "metadata": {},
   "source": [
    "Based on the histograms and qqplots both Box-Cox and Yeo-Johnson transformationsproduce the same results but since there are no zero or negative I will use the Box-Cox transformation."
   ]
  },
  {
   "cell_type": "code",
   "execution_count": null,
   "metadata": {},
   "outputs": [],
   "source": [
    "df_prep.dataframe[\"instalment\"]  = df_prep.skew_transform(df_prep.dataframe[\"instalment\"], transformation=\"BC\")"
   ]
  },
  {
   "cell_type": "code",
   "execution_count": null,
   "metadata": {},
   "outputs": [],
   "source": [
    "plt.figure(figsize=(10, 6))\n",
    "sns.histplot(data=df_prep.dataframe, x=\"annual_inc\", bins= 10)\n",
    "plt.title('annual income of the borrower')\n",
    "plt.xlabel('Amount in pounds')\n",
    "plt.ylabel('Frequency')\n",
    "plt.grid(True, axis=\"y\") \n",
    "plt.show()"
   ]
  },
  {
   "cell_type": "code",
   "execution_count": null,
   "metadata": {},
   "outputs": [],
   "source": [
    "# Apply log transformation.\n",
    "an_in_log_transform = df_prep.skew_transform(df_prep.dataframe[\"annual_inc\"], transformation=\"log\")\n",
    "an_in_BC_transform = df_prep.skew_transform(df_prep.dataframe[\"annual_inc\"], transformation=\"BC\")\n",
    "an_in_YJ_transform = df_prep.skew_transform(df_prep.dataframe[\"annual_inc\"], transformation=\"YJ\")\n",
    "\n",
    "# Histogram for log transform data\n",
    "plt.figure(figsize=(10, 6))\n",
    "sns.histplot(data=an_in_log_transform, x=\"log\", bins= 10, kde=True)\n",
    "plt.title('Log transformed of the annual income of the borrower')\n",
    "plt.xlabel('Amount in pounds')\n",
    "plt.ylabel('Frequency')\n",
    "plt.grid(True, axis=\"y\") \n",
    "plt.show()\n",
    "\n",
    "# Histogram for log transform data\n",
    "plt.figure(figsize=(10, 6))\n",
    "sns.histplot(data=an_in_BC_transform, x=\"Box-Cox\", bins= 10, kde=True)\n",
    "plt.title('Cox-Box transformed of the annual income of the borrower')\n",
    "plt.xlabel('Amount in pounds')\n",
    "plt.ylabel('Frequency')\n",
    "plt.grid(True, axis=\"y\") \n",
    "plt.show()\n",
    "\n",
    "# Histogram for Yeo-Johnson transform data\n",
    "plt.figure(figsize=(10, 6))\n",
    "sns.histplot(data=an_in_YJ_transform, x=\"Yeo-Johnson\", bins= 10, kde=True)\n",
    "plt.title('Yeo-Johnson transformed of the annual income of the borrower')\n",
    "plt.xlabel('Amount in pounds')\n",
    "plt.ylabel('Frequency')\n",
    "plt.grid(True, axis=\"y\")\n",
    "plt.show()"
   ]
  },
  {
   "cell_type": "code",
   "execution_count": null,
   "metadata": {},
   "outputs": [],
   "source": [
    "# QQplot\n",
    "qq_plot = qqplot(an_in_log_transform[\"log\"], scale=1 ,line='q')\n",
    "qq_plot = qqplot(an_in_BC_transform[\"Box-Cox\"], scale=1 ,line='q')\n",
    "qq_plot = qqplot(an_in_YJ_transform[\"Yeo-Johnson\"], scale=1 ,line='q')\n",
    "pyplot.show()"
   ]
  },
  {
   "cell_type": "markdown",
   "metadata": {},
   "source": [
    "Histograms an qq plost showed that any of the three used transfomations can be use and produce very similar chnages in distribution but seems that the log transformation produces the most normal distribution. therefore this will be used."
   ]
  },
  {
   "cell_type": "code",
   "execution_count": null,
   "metadata": {},
   "outputs": [],
   "source": [
    "df_prep.dataframe[\"annual_inc\"]  = df_prep.skew_transform(df_prep.dataframe[\"instalment\"], transformation=\"log\")"
   ]
  },
  {
   "cell_type": "code",
   "execution_count": null,
   "metadata": {},
   "outputs": [],
   "source": [
    "plots.hist_plot(dataframe= plots.dataframe,\n",
    "                column=\"total_payment\", \n",
    "                title= \"Payments received to date for total amount funded\", \n",
    "                xlabel=\"Amount in pounds\",\n",
    "                ylabel=\"Frequency\")"
   ]
  },
  {
   "cell_type": "markdown",
   "metadata": {},
   "source": [
    "This histogram shows positve/ right skew of the data."
   ]
  },
  {
   "cell_type": "code",
   "execution_count": null,
   "metadata": {},
   "outputs": [],
   "source": [
    "# Apply log transformation.\n",
    "total_p_in_log_transform = df_prep.skew_transform(df_prep.dataframe[\"total_payment\"], transformation=\"log\")\n",
    "total_p_YJ_transform = df_prep.skew_transform(df_prep.dataframe[\"total_payment\"], transformation=\"YJ\")\n",
    "\n",
    "# Plot log transformation\n",
    "plots.hist_plot(dataframe = total_p_in_log_transform,\n",
    "                column=\"log\", \n",
    "                title= \"Log transformed payments received to date for the total amount funded\", \n",
    "                xlabel=\"Amount in pounds\",\n",
    "                ylabel=\"Frequency\")\n",
    "\n",
    "# Plot Box-Cox transformation\n",
    "plots.hist_plot(dataframe = total_p_YJ_transform,\n",
    "                column=\"Yeo-Johnson\", \n",
    "                title= \"Yeo-Johnson transformed Payments received to date for the total amount funded\", \n",
    "                xlabel=\"Amount in pounds\",\n",
    "                ylabel=\"Frequency\")"
   ]
  },
  {
   "cell_type": "code",
   "execution_count": null,
   "metadata": {},
   "outputs": [],
   "source": [
    "plots.plot_qq(dataframe=total_p_in_log_transform,\n",
    "              column=\"log\")\n",
    "plots.plot_qq(dataframe=total_p_YJ_transform,\n",
    "              column=\"Yeo-Johnson\")"
   ]
  },
  {
   "cell_type": "markdown",
   "metadata": {},
   "source": [
    "Histograms and qq plots showed that the Yeo-Johnson trasnformation ahs the greates effect on the data. Therefore we will applied that transformation."
   ]
  },
  {
   "cell_type": "code",
   "execution_count": null,
   "metadata": {},
   "outputs": [],
   "source": [
    "df_prep.dataframe[\"total_payment\"] = total_p_YJ_transform\n"
   ]
  },
  {
   "cell_type": "code",
   "execution_count": null,
   "metadata": {},
   "outputs": [],
   "source": [
    "plots.hist_plot(dataframe= plots.dataframe,\n",
    "                column=\"total_rec_int\",\n",
    "                title= \"Interest received to date\",\n",
    "                xlabel=\"Amount of inetrest\",\n",
    "                ylabel=\"Frequency\")"
   ]
  },
  {
   "cell_type": "code",
   "execution_count": null,
   "metadata": {},
   "outputs": [],
   "source": [
    "total_rec_log_transform = df_prep.skew_transform(df_prep.dataframe[\"total_rec_int\"], transformation=\"log\")\n",
    "\n",
    "total_rec_YJ_transform = df_prep.skew_transform(df_prep.dataframe[\"total_rec_int\"], transformation=\"YJ\")\n",
    "\n",
    "plots.hist_plot(dataframe= total_rec_log_transform,\n",
    "                column=\"log\",\n",
    "                title= \"Log transformed interest received to date\",\n",
    "                xlabel=\"Amount of inetrest\",\n",
    "                ylabel=\"Frequency\")\n",
    "\n",
    "plots.hist_plot(dataframe= total_rec_YJ_transform,\n",
    "                column=\"Yeo-Johnson\",\n",
    "                title= \"Yeo-Johnson transformed interest received to date\",\n",
    "                xlabel=\"Amount of inetrest\",\n",
    "                ylabel=\"Frequency\")"
   ]
  },
  {
   "cell_type": "code",
   "execution_count": 138,
   "metadata": {},
   "outputs": [
    {
     "data": {
      "image/png": "[encoded data removed]",
      "text/plain": [
       "<Figure size 640x480 with 1 Axes>"
      ]
     },
     "metadata": {},
     "output_type": "display_data"
    },
    {
     "data": {
      "image/png": "[encoded data removed]",
      "text/plain": [
       "<Figure size 640x480 with 1 Axes>"
      ]
     },
     "metadata": {},
     "output_type": "display_data"
    }
   ],
   "source": [
    "plots.plot_qq(dataframe=total_rec_log_transform ,\n",
    "              column=\"log\")\n",
    "plots.plot_qq(dataframe=total_rec_YJ_transform,\n",
    "              column=\"Yeo-Johnson\")"
   ]
  },
  {
   "cell_type": "markdown",
   "metadata": {},
   "source": [
    "The Yeo-Johnson transformation has the most effect on the data and therefore it will be used."
   ]
  },
  {
   "cell_type": "code",
   "execution_count": 139,
   "metadata": {},
   "outputs": [],
   "source": [
    "df_prep.dataframe[\"total_rec_int\"] = total_rec_YJ_transform"
   ]
  },
  {
   "cell_type": "code",
   "execution_count": null,
   "metadata": {},
   "outputs": [],
   "source": [
    "plots.hist_plot(dataframe= plots.dataframe,\n",
    "                column=\"delinq_2yrs\",\n",
    "                title= \"The number of 30+ days past-due payments in the borrower's credit file for the past 2 years\",\n",
    "                xlabel=\"Days\",\n",
    "                ylabel=\"Frequency\")"
   ]
  },
  {
   "cell_type": "markdown",
   "metadata": {},
   "source": [
    "The histogram show postive/right skew."
   ]
  },
  {
   "cell_type": "code",
   "execution_count": null,
   "metadata": {},
   "outputs": [],
   "source": [
    "delinq_log_transform = df_prep.skew_transform(df_prep.dataframe[\"delinq_2yrs\"], transformation=\"log\")\n",
    "delinq_YJ_transform = df_prep.skew_transform(df_prep.dataframe[\"delinq_2yrs\"], transformation=\"YJ\")\n",
    "\n",
    "plots.hist_plot(dataframe= delinq_log_transform,\n",
    "                column=\"delinq_2yrs\",\n",
    "                title= \"Log transform number of 30+ days past-due payments in the borrower's credit file for the past 2 years\",\n",
    "                xlabel=\"Days\",\n",
    "                ylabel=\"Frequency\")\n",
    "\n",
    "plots.hist_plot(dataframe= delinq_YJ_transform,\n",
    "                column=\"Yeo-Johnson\",\n",
    "                title= \"Yeo-Johnson transform number of 30+ days past-due payments in the borrower's credit file for the past 2 years\",\n",
    "                xlabel=\"Days\",\n",
    "                ylabel=\"Frequency\")"
   ]
  },
  {
   "cell_type": "code",
   "execution_count": 132,
   "metadata": {},
   "outputs": [
    {
     "name": "stderr",
     "output_type": "stream",
     "text": [
      "c:\\Users\\ChAre\\miniconda3\\envs\\EDA_finance_env\\lib\\site-packages\\statsmodels\\graphics\\gofplots.py:915: RuntimeWarning: invalid value encountered in scalar subtract\n",
      "  m = (q75 - q25) / np.diff(theoretical_quartiles)\n"
     ]
    },
    {
     "data": {
      "image/png": "[encoded data removed]",
      "text/plain": [
       "<Figure size 640x480 with 1 Axes>"
      ]
     },
     "metadata": {},
     "output_type": "display_data"
    },
    {
     "data": {
      "image/png": "[encoded data removed]",
      "text/plain": [
       "<Figure size 640x480 with 1 Axes>"
      ]
     },
     "metadata": {},
     "output_type": "display_data"
    }
   ],
   "source": [
    "plots.plot_qq(dataframe=delinq_log_transform,\n",
    "              column=\"log\")\n",
    "plots.plot_qq(dataframe=delinq_YJ_transform ,\n",
    "              column=\"Yeo-Johnson\")"
   ]
  },
  {
   "cell_type": "code",
   "execution_count": 133,
   "metadata": {},
   "outputs": [],
   "source": [
    "df_prep.dataframe[\"delinq_2yrs\"]  = delinq_log_transform "
   ]
  },
  {
   "cell_type": "code",
   "execution_count": null,
   "metadata": {},
   "outputs": [],
   "source": [
    "plots.hist_plot(dataframe= plots.dataframe,\n",
    "                column=\"out_prncp\",\n",
    "                title= \"Remaining outstanding principal for total amount funded\",\n",
    "                xlabel=\"Amount in pounds\",\n",
    "                ylabel=\"Frequency\")"
   ]
  },
  {
   "cell_type": "markdown",
   "metadata": {},
   "source": [
    "The histogram shows positive/right skew."
   ]
  },
  {
   "cell_type": "code",
   "execution_count": null,
   "metadata": {},
   "outputs": [],
   "source": [
    "# Apply log transformation.\n",
    "out_pr_in_log_transform = df_prep.skew_transform(df_prep.dataframe[\"out_prncp\"], transformation=\"log\")\n",
    "out_pr_YJ_transform = df_prep.skew_transform(df_prep.dataframe[\"out_prncp\"], transformation=\"YJ\")\n",
    "\n",
    "# Plot log transformation\n",
    "plots.hist_plot(dataframe= out_pr_in_log_transform,\n",
    "                column=\"log\",\n",
    "                title= \"Log transformed remaining outstanding principal for total amount funded\",\n",
    "                xlabel=\"Amount in pounds\",\n",
    "                ylabel=\"Frequency\")\n",
    "\n",
    "# Plot Box-Cox Yeo-Johnson\n",
    "plots.hist_plot(dataframe = out_pr_YJ_transform,\n",
    "                column=\"Yeo-Johnson\",\n",
    "                bins_size= 10, \n",
    "                title= \"Yeo-Johnson transformed remaining outstanding principal for total amount funded\", \n",
    "                xlabel=\"Amount in pounds\",\n",
    "                ylabel=\"Frequency\")"
   ]
  },
  {
   "cell_type": "code",
   "execution_count": null,
   "metadata": {},
   "outputs": [],
   "source": [
    "plots.plot_qq(dataframe=out_pr_in_log_transform,\n",
    "              column=\"log\")\n",
    "plots.plot_qq(dataframe=out_pr_YJ_transform,\n",
    "              column=\"Yeo-Johnson\")"
   ]
  },
  {
   "cell_type": "markdown",
   "metadata": {},
   "source": [
    "Histograms and qq plots showed that the transformation do not have great affect in normalising the data. Since the log transformation is the closet to normal distribution between the I will proceed wiht this transformation. However, this data  will require another transformation that brings the data closer to a normal distirbution."
   ]
  },
  {
   "cell_type": "code",
   "execution_count": null,
   "metadata": {},
   "outputs": [],
   "source": [
    "df_prep.dataframe[\"out_prncp\"] = out_pr_in_log_transform\n"
   ]
  },
  {
   "cell_type": "code",
   "execution_count": null,
   "metadata": {},
   "outputs": [],
   "source": [
    "plots.hist_plot(dataframe= plots.dataframe,\n",
    "                column=\"out_prncp_inv\",\n",
    "                title= \"Remaining outstanding principal for portion of total amount funded by investors\",\n",
    "                xlabel=\"Amount in pounds\",\n",
    "                ylabel=\"Frequency\")"
   ]
  },
  {
   "cell_type": "markdown",
   "metadata": {},
   "source": [
    "This histogram showed positve right skew."
   ]
  },
  {
   "cell_type": "code",
   "execution_count": null,
   "metadata": {},
   "outputs": [],
   "source": [
    "# Apply log transformation.\n",
    "out_in_in_log_transform = df_prep.skew_transform(df_prep.dataframe[\"out_prncp_inv\"], transformation=\"log\")\n",
    "out_in_YJ_transform = df_prep.skew_transform(df_prep.dataframe[\"out_prncp_inv\"], transformation=\"YJ\")\n",
    "\n",
    "# Log transformation\n",
    "plots.hist_plot(dataframe= out_in_in_log_transform,\n",
    "                column=\"log\",\n",
    "                title= \"Remaining outstanding principal for portion of total amount funded by investors\",\n",
    "                xlabel=\"Amount in pounds\",\n",
    "                ylabel=\"Frequency\")\n",
    "\n",
    "# Log transformation\n",
    "plots.hist_plot(dataframe= out_in_YJ_transform,\n",
    "                column=\"Yeo-Johnson\",\n",
    "                title= \"Remaining outstanding principal for portion of total amount funded by investors\",\n",
    "                xlabel=\"Amount in pounds\",\n",
    "                ylabel=\"Frequency\")"
   ]
  },
  {
   "cell_type": "code",
   "execution_count": null,
   "metadata": {},
   "outputs": [],
   "source": [
    "plots.plot_qq(dataframe=out_in_in_log_transform,\n",
    "              column=\"log\")\n",
    "plots.plot_qq(dataframe=out_in_YJ_transform,\n",
    "              column=\"Yeo-Johnson\")"
   ]
  },
  {
   "cell_type": "markdown",
   "metadata": {},
   "source": [
    "The histograms and qq plots showed that either transformation cannot fully correct the skew of the data. However, since the distribution of the log transform data is closer to a normal distribtuion than the Yeo-Johnson, this one will be use for this data."
   ]
  },
  {
   "cell_type": "code",
   "execution_count": null,
   "metadata": {},
   "outputs": [],
   "source": [
    "df_prep.dataframe[\"out_prncp_inv\"] = out_in_in_log_transform "
   ]
  },
  {
   "cell_type": "code",
   "execution_count": null,
   "metadata": {},
   "outputs": [],
   "source": [
    "plots.hist_plot(dataframe= plots.dataframe,\n",
    "                column=\"recoveries\",\n",
    "                title= \"Post charge off gross recovery\",\n",
    "                xlabel=\"Amount in pounds\",\n",
    "                ylabel=\"Frequency\")"
   ]
  },
  {
   "cell_type": "markdown",
   "metadata": {},
   "source": [
    "The histogram shows, positive/ rigth skew."
   ]
  },
  {
   "cell_type": "code",
   "execution_count": null,
   "metadata": {},
   "outputs": [],
   "source": [
    "# Apply log transformation.\n",
    "recover_in_log_transform = df_prep.skew_transform(df_prep.dataframe[\"recoveries\"], transformation=\"log\")\n",
    "recover_YJ_transform = df_prep.skew_transform(df_prep.dataframe[\"recoveries\"], transformation=\"YJ\")\n",
    "\n",
    "# Log transformation\n",
    "plots.hist_plot(dataframe= recover_in_log_transform,\n",
    "                column=\"log\",\n",
    "                title= \"Log transformed post charge off gross recovery\",\n",
    "                xlabel=\"Amount in pounds\",\n",
    "                ylabel=\"Frequency\")\n",
    "\n",
    "# Log transformation\n",
    "plots.hist_plot(dataframe= recover_YJ_transform,\n",
    "                column=\"Yeo-Johnson\",\n",
    "                title= \" Yeo-Johnson transformed post charge off gross recovery\",\n",
    "                xlabel=\"Amount in pounds\",\n",
    "                ylabel=\"Frequency\")"
   ]
  },
  {
   "cell_type": "code",
   "execution_count": null,
   "metadata": {},
   "outputs": [],
   "source": [
    "plots.plot_qq(dataframe=recover_in_log_transform,\n",
    "              column=\"log\")\n",
    "plots.plot_qq(dataframe=recover_YJ_transform,\n",
    "              column=\"Yeo-Johnson\")"
   ]
  },
  {
   "cell_type": "markdown",
   "metadata": {},
   "source": [
    "The histograms and qq plots showed that either transformation cannot fully correct the skew of the data. However, since the distribution of the log transform data is closer to a normal distribtuion than the Yeo-Johnson, this one will be use for this data."
   ]
  },
  {
   "cell_type": "code",
   "execution_count": null,
   "metadata": {},
   "outputs": [],
   "source": [
    "df_prep.dataframe[\"recoveries\"] = recover_in_log_transform"
   ]
  },
  {
   "cell_type": "code",
   "execution_count": null,
   "metadata": {},
   "outputs": [],
   "source": [
    "plots.hist_plot(dataframe= plots.dataframe,\n",
    "                column=\"collection_recovery_fee\", \n",
    "                title= \"Post charge off collection fee\",\n",
    "                xlabel=\"Amount in pounds\",\n",
    "                ylabel=\"Frequency\",\n",
    "                bins_size=5)"
   ]
  },
  {
   "cell_type": "code",
   "execution_count": null,
   "metadata": {},
   "outputs": [],
   "source": [
    "# Apply log transformation.\n",
    "collection_in_log_transform = df_prep.skew_transform(df_prep.dataframe[\"collection_recovery_fee\"], transformation=\"log\")\n",
    "collection_YJ_transform = df_prep.skew_transform(df_prep.dataframe[\"collection_recovery_fee\"], transformation=\"YJ\")\n",
    "\n",
    "# Plot log transformation\n",
    "plots.hist_plot(dataframe= collection_in_log_transform,\n",
    "                column=\"log\", \n",
    "                title= \"Log transform post charge off collection fee\",\n",
    "                xlabel=\"Amount in pounds\",\n",
    "                ylabel=\"Frequency\",\n",
    "                bins_size=5)\n",
    "\n",
    "# Plot Box-Cox transformation\n",
    "plots.hist_plot(dataframe = collection_YJ_transform,\n",
    "                column=\"Yeo-Johnson\",\n",
    "                title= \"Yeo-Johnson transformed post charge off collection fee\",\n",
    "                xlabel=\"Amount in pounds\",\n",
    "                ylabel=\"Frequency\")"
   ]
  },
  {
   "cell_type": "code",
   "execution_count": null,
   "metadata": {},
   "outputs": [],
   "source": [
    "plots.plot_qq(dataframe=collection_in_log_transform,\n",
    "              column=\"log\")\n",
    "plots.plot_qq(dataframe=collection_YJ_transform,\n",
    "              column=\"Yeo-Johnson\")"
   ]
  },
  {
   "cell_type": "markdown",
   "metadata": {},
   "source": [
    "The histograms and qqplots showed that the log transformation has the greates effect in correcting the skenes and therefore it will be used."
   ]
  },
  {
   "cell_type": "code",
   "execution_count": null,
   "metadata": {},
   "outputs": [],
   "source": [
    "df_prep.dataframe[\"collection_recovery_fee\"] = collection_in_log_transform "
   ]
  },
  {
   "cell_type": "code",
   "execution_count": null,
   "metadata": {},
   "outputs": [],
   "source": [
    "plots.hist_plot(dataframe= plots.dataframe,\n",
    "                column=\"total_rec_late_fee\",\n",
    "                title= \"Late fees received to date\",\n",
    "                xlabel=\"Amount in pounds\",\n",
    "                ylabel=\"Frequency\")"
   ]
  },
  {
   "cell_type": "code",
   "execution_count": null,
   "metadata": {},
   "outputs": [],
   "source": [
    "# Apply log transformation.\n",
    "total_p_in_log_transform = df_prep.skew_transform(df_prep.dataframe[\"total_rec_late_fee\"], transformation=\"log\")\n",
    "total_p_YJ_transform = df_prep.skew_transform(df_prep.dataframe[\"total_rec_late_fee\"], transformation=\"YJ\")\n",
    "\n",
    "plots.hist_plot(dataframe= total_p_in_log_transform,\n",
    "                column=\"log\",\n",
    "                title= \"Log transformed late fees received to date\",\n",
    "                xlabel=\"Amount in pounds\",\n",
    "                ylabel=\"Frequency\")\n",
    "\n",
    "plots.hist_plot(dataframe= total_p_YJ_transform,\n",
    "                column=\"Yeo-Johnson\",\n",
    "                title= \"Yeo-Johnson transformed late fees received to date\",\n",
    "                xlabel=\"Amount in pounds\",\n",
    "                ylabel=\"Frequency\")"
   ]
  },
  {
   "cell_type": "code",
   "execution_count": null,
   "metadata": {},
   "outputs": [],
   "source": [
    "plots.plot_qq(dataframe=total_p_in_log_transform,\n",
    "              column=\"log\")\n",
    "plots.plot_qq(dataframe=total_p_YJ_transform,\n",
    "              column=\"Yeo-Johnson\")"
   ]
  },
  {
   "cell_type": "markdown",
   "metadata": {},
   "source": [
    "The histograms and qqplots showed that the log transformation has the greates effect in correcting the skenes and therefore it will be used."
   ]
  },
  {
   "cell_type": "code",
   "execution_count": null,
   "metadata": {},
   "outputs": [],
   "source": [
    "df_prep.dataframe[\"total_rec_late_fee\"] = total_p_in_log_transform"
   ]
  },
  {
   "cell_type": "code",
   "execution_count": null,
   "metadata": {},
   "outputs": [],
   "source": [
    "plots.hist_plot(dataframe= plots.dataframe,\n",
    "                column=\"inq_last_6mths\",\n",
    "                title= \"The number of inquiries in past 6 months (excluding auto and mortgage inquiries)\",\n",
    "                xlabel=\"Inquiries\",\n",
    "                ylabel=\"Frequency\")"
   ]
  },
  {
   "cell_type": "markdown",
   "metadata": {},
   "source": [
    "This histogram showed positive/right skew."
   ]
  },
  {
   "cell_type": "code",
   "execution_count": null,
   "metadata": {},
   "outputs": [],
   "source": [
    "# Apply log transformation.\n",
    "inq_last_in_log_transform = df_prep.skew_transform(df_prep.dataframe[\"inq_last_6mths\"], transformation=\"log\")\n",
    "inq_last_YJ_transform = df_prep.skew_transform(df_prep.dataframe[\"inq_last_6mths\"], transformation=\"YJ\")\n",
    "\n",
    "# Plot log transformation\n",
    "plots.hist_plot(dataframe = inq_last_in_log_transform ,\n",
    "                column=\"log\",\n",
    "                title= \"Log transformed number of inquiries in past 6 months (excluding auto and mortgage inquiries)\",\n",
    "                xlabel=\"inquiries\",\n",
    "                ylabel=\"Frequency\")\n",
    "\n",
    "\n",
    "\n",
    "# Plot Box-Cox transformation\n",
    "plots.hist_plot(dataframe = inq_last_YJ_transform,\n",
    "                column=\"Yeo-Johnson\",\n",
    "                title= \"Yeo-Johnson transformed number of inquiries in past 6 months (excluding auto and mortgage inquiries)\",\n",
    "                xlabel=\"inquiries\",\n",
    "                ylabel=\"Frequency\")"
   ]
  },
  {
   "cell_type": "code",
   "execution_count": null,
   "metadata": {},
   "outputs": [],
   "source": [
    "plots.plot_qq(dataframe=inq_last_in_log_transform,\n",
    "              column=\"log\")\n",
    "plots.plot_qq(inq_last_YJ_transform,\n",
    "              column=\"Yeo-Johnson\")"
   ]
  },
  {
   "cell_type": "markdown",
   "metadata": {},
   "source": [
    "The histograms and qqplots showed that the log transformation has the greates effect in correcting the skenes and therefore it will be used."
   ]
  },
  {
   "cell_type": "code",
   "execution_count": null,
   "metadata": {},
   "outputs": [],
   "source": [
    "df_prep.dataframe[\"inq_last_6mths\"] = inq_last_in_log_transform"
   ]
  },
  {
   "cell_type": "code",
   "execution_count": null,
   "metadata": {},
   "outputs": [],
   "source": [
    "plots.hist_plot(dataframe= plots.dataframe,\n",
    "                column=\"open_accounts\",\n",
    "                title= \"The number of open credit lines in the borrower's credit file\",\n",
    "                xlabel=\"Open accounts\",\n",
    "                ylabel=\"Frequency\")"
   ]
  },
  {
   "cell_type": "code",
   "execution_count": null,
   "metadata": {},
   "outputs": [],
   "source": [
    "# Apply log transformation.\n",
    "open_a_in_log_transform = df_prep.skew_transform(df_prep.dataframe[\"open_accounts\"], transformation=\"log\")\n",
    "open_a_BC_transform = df_prep.skew_transform(df_prep.dataframe[\"open_accounts\"], transformation=\"BC\")\n",
    "open_a_YJ_transform = df_prep.skew_transform(df_prep.dataframe[\"open_accounts\"], transformation=\"YJ\")\n",
    "\n",
    "# Log transformation\n",
    "plots.hist_plot(dataframe= open_a_in_log_transform,\n",
    "                column=\"log\",\n",
    "                title= \"Log transformed number of open credit lines in the borrower's credit file\",\n",
    "                xlabel=\"Open accounts\",\n",
    "                ylabel=\"Frequency\")\n",
    "\n",
    "\n",
    "# Box-Cox transformation\n",
    "plots.hist_plot(dataframe=open_a_BC_transform,\n",
    "                column=\"Box-Cox\",\n",
    "                title= \"Box-Cox transformed number of open credit lines in the borrower's credit file\",\n",
    "                xlabel=\"Open accounts\",\n",
    "                ylabel=\"Frequency\")\n",
    "\n",
    "# Plot Box-Cox transformation\n",
    "plots.hist_plot(dataframe = open_a_YJ_transform,\n",
    "                column=\"Yeo-Johnson\",\n",
    "                title= \"Yeo-Johnson transformed number of open credit lines in the borrower's credit file\",\n",
    "                xlabel=\"Amount in pounds\",\n",
    "                ylabel=\"Frequency\")"
   ]
  },
  {
   "cell_type": "code",
   "execution_count": null,
   "metadata": {},
   "outputs": [],
   "source": [
    "plots.plot_qq(dataframe=open_a_in_log_transform,\n",
    "              column=\"log\")\n",
    "plots.plot_qq(dataframe=open_a_BC_transform,\n",
    "              column=\"Box-Cox\")\n",
    "plots.plot_qq(dataframe=open_a_YJ_transform,\n",
    "              column=\"Yeo-Johnson\")"
   ]
  },
  {
   "cell_type": "markdown",
   "metadata": {},
   "source": [
    "The histograms and qqplots showed that the Box-Cox transformation had has the greates effect in bringign the distribution closer to normal. Although the the difference is not much greater than the effect of Yeo-Johnson transformation. Therefore the Box-Cox transformation will be used."
   ]
  },
  {
   "cell_type": "code",
   "execution_count": null,
   "metadata": {},
   "outputs": [],
   "source": [
    "df_prep.dataframe[\"total_payment\"] = open_a_BC_transform\n"
   ]
  },
  {
   "cell_type": "code",
   "execution_count": null,
   "metadata": {},
   "outputs": [],
   "source": [
    "plots.hist_plot(dataframe= plots.dataframe,\n",
    "                column=\"total_accounts\",\n",
    "                title= \"The total number of credit lines currently in the borrower's credit file\",\n",
    "                xlabel=\"Number of accounts\",\n",
    "                ylabel=\"Frequency\")"
   ]
  },
  {
   "cell_type": "markdown",
   "metadata": {},
   "source": [
    "Positive/right skew"
   ]
  },
  {
   "cell_type": "code",
   "execution_count": null,
   "metadata": {},
   "outputs": [],
   "source": [
    "total_ac_in_log_transform = df_prep.skew_transform(df_prep.dataframe[\"total_accounts\"], transformation=\"log\")\n",
    "total_ac_BC_transform = df_prep.skew_transform(df_prep.dataframe[\"total_accounts\"], transformation=\"BC\")\n",
    "total_ac_YJ_transform = df_prep.skew_transform(df_prep.dataframe[\"total_accounts\"], transformation=\"YJ\")\n",
    "\n",
    "plots.hist_plot(dataframe= total_ac_in_log_transform,\n",
    "                column=\"log\",\n",
    "                title= \"Log transformed total number of credit lines currently in the borrower's credit file\",\n",
    "                xlabel=\"Number of accounts\",\n",
    "                ylabel=\"Frequency\")\n",
    "\n",
    "plots.hist_plot(dataframe= total_ac_BC_transform,\n",
    "                column=\"Box-Cox\",\n",
    "                title= \"Box-Cox transformed total number of credit lines currently in the borrower's credit file\",\n",
    "                xlabel=\"Number of accounts\",\n",
    "                ylabel=\"Frequency\")\n",
    "\n",
    "plots.hist_plot(dataframe= total_ac_YJ_transform,\n",
    "                column=\"Yeo-Johnson\",\n",
    "                title= \"Yeo-Johnson transformed total number of credit lines currently in the borrower's credit file\",\n",
    "                xlabel=\"Number of accounts\",\n",
    "                ylabel=\"Frequency\")\n",
    "\n"
   ]
  },
  {
   "cell_type": "code",
   "execution_count": null,
   "metadata": {},
   "outputs": [],
   "source": [
    "plots.plot_qq(dataframe=total_ac_in_log_transform,\n",
    "              column=\"log\")\n",
    "plots.plot_qq(dataframe=total_ac_BC_transform,\n",
    "              column=\"Box-Cox\")\n",
    "plots.plot_qq(dataframe=total_ac_YJ_transform,\n",
    "              column=\"Yeo-Johnson\")"
   ]
  },
  {
   "cell_type": "markdown",
   "metadata": {},
   "source": [
    "The histograms and qq plots shows that the box-Cox and Yeo-Johnson have the greates effect on the data. Since the data originally did not have any zero or negative values, the Box-Cox transformation will be used."
   ]
  },
  {
   "cell_type": "code",
   "execution_count": 131,
   "metadata": {},
   "outputs": [
    {
     "data": {
      "text/plain": [
       "0        7.042222\n",
       "1        7.599236\n",
       "2        5.580006\n",
       "3        4.571754\n",
       "4        9.792344\n",
       "           ...   \n",
       "54226    2.991485\n",
       "54227    2.657073\n",
       "54228    5.580006\n",
       "54229    0.802928\n",
       "54230    4.571754\n",
       "Name: total_accounts, Length: 54231, dtype: float64"
      ]
     },
     "execution_count": 131,
     "metadata": {},
     "output_type": "execute_result"
    }
   ],
   "source": [
    "df_prep.dataframe[\"total_accounts\"] = total_ac_BC_transform "
   ]
  },
  {
   "cell_type": "code",
   "execution_count": null,
   "metadata": {},
   "outputs": [],
   "source": [
    "plots.hist_plot(dataframe= plots.dataframe,\n",
    "                column=\"last_payment_amount\",\n",
    "                title= \"Last total payment amount received\",\n",
    "                xlabel=\"Amount in pounds\",\n",
    "                ylabel=\"Frequency\")\n"
   ]
  },
  {
   "cell_type": "markdown",
   "metadata": {},
   "source": [
    "The histogram shows positive/right skew."
   ]
  },
  {
   "cell_type": "code",
   "execution_count": null,
   "metadata": {},
   "outputs": [],
   "source": [
    "# Apply transformations\n",
    "last_p_in_log_transform = df_prep.skew_transform(df_prep.dataframe[\"last_payment_amount\"], transformation=\"log\")\n",
    "last_p_YJ_transform = df_prep.skew_transform(df_prep.dataframe[\"last_payment_amount\"], transformation=\"YJ\")\n",
    "\n",
    "\n",
    "plots.hist_plot(dataframe= last_p_in_log_transform,\n",
    "                column=\"log\",\n",
    "                title= \"Log trasnformed last total payment amount received\",\n",
    "                xlabel=\"Amount in pounds\",\n",
    "                ylabel=\"Frequency\")\n",
    "\n",
    "plots.hist_plot(dataframe= last_p_YJ_transform,\n",
    "                column=\"Yeo-Johnson\",\n",
    "                title= \"Yeo-Johnson trasnformed last total payment amount received\",\n",
    "                xlabel=\"Amount in pounds\",\n",
    "                ylabel=\"Frequency\")"
   ]
  },
  {
   "cell_type": "code",
   "execution_count": null,
   "metadata": {},
   "outputs": [],
   "source": [
    "plots.plot_qq(dataframe=last_p_in_log_transform,\n",
    "              column=\"log\")\n",
    "plots.plot_qq(dataframe=last_p_YJ_transform,\n",
    "              column=\"Yeo-Johnson\")"
   ]
  },
  {
   "cell_type": "markdown",
   "metadata": {},
   "source": [
    "The histograms and qq plots show that the Yeo-Johnson transformation ahs the greates effect. Therefore it will be applied to the data."
   ]
  },
  {
   "cell_type": "code",
   "execution_count": null,
   "metadata": {},
   "outputs": [],
   "source": [
    "df_prep.dataframe[\"last_payment_amount\"] = last_p_YJ_transform"
   ]
  },
  {
   "cell_type": "code",
   "execution_count": null,
   "metadata": {},
   "outputs": [],
   "source": [
    "plots.hist_plot(dataframe= plots.dataframe,\n",
    "                column=\"collections_12_mths_ex_med\",\n",
    "                title= \"Number of collections in 12 months' excluding medical collections\",\n",
    "                xlabel=\"Collections\",\n",
    "                ylabel=\"Frequency\")"
   ]
  },
  {
   "cell_type": "code",
   "execution_count": null,
   "metadata": {},
   "outputs": [],
   "source": [
    "# Apply log transformation.\n",
    "collections_log_transform = df_prep.skew_transform(df_prep.dataframe[\"collections_12_mths_ex_med\"], transformation=\"log\")\n",
    "collections_YJ_transform = df_prep.skew_transform(df_prep.dataframe[\"collections_12_mths_ex_med\"], transformation=\"YJ\")\n",
    "\n",
    "plots.hist_plot(dataframe= collections_log_transform,\n",
    "                column=\"log\",\n",
    "                title= \" Log transformed number of collections in 12 months' excluding medical collections\",\n",
    "                xlabel=\"Collections\",\n",
    "                ylabel=\"Frequency\")\n",
    "\n",
    "plots.hist_plot(dataframe= collections_YJ_transform,\n",
    "                column=\"Yeo-Johnson\",\n",
    "                title= \"Log transformed number of collections in 12 months' excluding medical collections\",\n",
    "                xlabel=\"Collections\",\n",
    "                ylabel=\"Frequency\")"
   ]
  },
  {
   "cell_type": "code",
   "execution_count": null,
   "metadata": {},
   "outputs": [],
   "source": [
    "plots.plot_qq(dataframe=collections_log_transform,\n",
    "              column=\"log\")\n",
    "plots.plot_qq(dataframe=collections_YJ_transform,\n",
    "              column=\"Yeo-Johnson\")"
   ]
  },
  {
   "cell_type": "markdown",
   "metadata": {},
   "source": [
    "The histograms and qq plots show that the log transformation has the greates effect. Therefore it will be use to transform the data."
   ]
  },
  {
   "cell_type": "code",
   "execution_count": null,
   "metadata": {},
   "outputs": [],
   "source": [
    "df_prep.dataframe[\"collections_12_mths_ex_med\"] = collections_log_transform"
   ]
  },
  {
   "cell_type": "markdown",
   "metadata": {},
   "source": []
  },
  {
   "cell_type": "markdown",
   "metadata": {},
   "source": [
    "plt.figure(figsize=(10, 6))\n",
    "sns.histplot(data=df_prep.dataframe, x=\"loan_amount\", bins= 10)\n",
    "plt.title('Distribution of log transformed amount of loan the applicant received')\n",
    "plt.xlabel('log amount in pounds')\n",
    "plt.ylabel('Frequency')\n",
    "plt.grid(True, axis=\"y\")\n",
    "plt.show()"
   ]
  }
 ],
 "metadata": {
  "kernelspec": {
   "display_name": "EDA_finance_env",
   "language": "python",
   "name": "python3"
  },
  "language_info": {
   "codemirror_mode": {
    "name": "ipython",
    "version": 3
   },
   "file_extension": ".py",
   "mimetype": "text/x-python",
   "name": "python",
   "nbconvert_exporter": "python",
   "pygments_lexer": "ipython3",
   "version": "3.9.19"
  }
 },
 "nbformat": 4,
 "nbformat_minor": 2
}
